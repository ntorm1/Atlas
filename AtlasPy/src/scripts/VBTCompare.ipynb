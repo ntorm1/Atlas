{
 "cells": [
  {
   "cell_type": "code",
   "execution_count": 1,
   "metadata": {},
   "outputs": [],
   "source": [
    "import sys\n",
    "import os\n",
    "import time\n",
    "import pandas as pd\n",
    "import numpy as np\n",
    "import matplotlib.pyplot as plt\n",
    "import seaborn as sns\n",
    "sns.set(style=\"darkgrid\")\n",
    "\n",
    "atlas_path = \"C:/Users/natha/OneDrive/Desktop/C++/Atlas/x64/Debug\"\n",
    "sys.path.append(atlas_path)\n",
    "\n",
    "\n",
    "from AtlasPy.core import Hydra, Portfolio, Strategy\n",
    "from AtlasPy.ast import *"
   ]
  },
  {
   "cell_type": "code",
   "execution_count": 2,
   "metadata": {},
   "outputs": [],
   "source": [
    "exchange_path = \"C:/Users/natha/OneDrive/Desktop/C++/Atlas/AtlasPy/src/exchangeVBT\"\n",
    "strategy_id = \"test_strategy\"\n",
    "exchange_id = \"test_exchange\"\n",
    "portfolio_id = \"test_portfolio\"\n",
    "\n",
    "hydra = Hydra()\n",
    "intial_cash = 100.0\n",
    "exchange = hydra.addExchange(exchange_id, exchange_path, \"%Y-%m-%d %H:%M:%S\")\n",
    "portfolio = hydra.addPortfolio(portfolio_id, exchange, intial_cash)\n",
    "hydra.build()"
   ]
  },
  {
   "cell_type": "code",
   "execution_count": 5,
   "metadata": {},
   "outputs": [
    {
     "name": "stdout",
     "output_type": "stream",
     "text": [
      "Elapsed time 10.50 ms\n"
     ]
    }
   ],
   "source": [
    "st = time.time()\n",
    "atr_node = ATRNode.make(\n",
    "    exchange,\n",
    "    \"High\",\n",
    "    \"Low\",\n",
    "    14\n",
    ") \n",
    "et = time.time()\n",
    "print(f'Elapsed time {1000*(et-st):.2f} ms')"
   ]
  },
  {
   "cell_type": "code",
   "execution_count": 9,
   "metadata": {},
   "outputs": [],
   "source": [
    "multiplier = 2\n",
    "median_node = AssetMedianNode.make(\n",
    "    exchange,\n",
    "    \"High\",\n",
    "    \"Low\"\n",
    ")\n",
    "upper_band = AssetOpNode.make(\n",
    "    median_node,\n",
    "    AssetScalerNode(atr_node, AssetOpType.MULTIPLY, multiplier),\n",
    "    AssetOpType.ADD\n",
    ")\n",
    "lower_band = AssetOpNode.make(\n",
    "    median_node,\n",
    "    AssetScalerNode(atr_node, AssetOpType.MULTIPLY, multiplier),\n",
    "    AssetOpType.SUBTRACT\n",
    ")"
   ]
  },
  {
   "cell_type": "code",
   "execution_count": 14,
   "metadata": {},
   "outputs": [
    {
     "data": {
      "text/html": [
       "<div>\n",
       "<style scoped>\n",
       "    .dataframe tbody tr th:only-of-type {\n",
       "        vertical-align: middle;\n",
       "    }\n",
       "\n",
       "    .dataframe tbody tr th {\n",
       "        vertical-align: top;\n",
       "    }\n",
       "\n",
       "    .dataframe thead th {\n",
       "        text-align: right;\n",
       "    }\n",
       "</style>\n",
       "<table border=\"1\" class=\"dataframe\">\n",
       "  <thead>\n",
       "    <tr style=\"text-align: right;\">\n",
       "      <th></th>\n",
       "      <th>Timestamps</th>\n",
       "      <th>ATR Data</th>\n",
       "      <th>ATR ATLAS</th>\n",
       "    </tr>\n",
       "  </thead>\n",
       "  <tbody>\n",
       "    <tr>\n",
       "      <th>0</th>\n",
       "      <td>1514782800000000000</td>\n",
       "      <td>NaN</td>\n",
       "      <td>0.000000</td>\n",
       "    </tr>\n",
       "    <tr>\n",
       "      <th>1</th>\n",
       "      <td>1514869200000000000</td>\n",
       "      <td>NaN</td>\n",
       "      <td>0.000000</td>\n",
       "    </tr>\n",
       "    <tr>\n",
       "      <th>2</th>\n",
       "      <td>1514955600000000000</td>\n",
       "      <td>NaN</td>\n",
       "      <td>0.000000</td>\n",
       "    </tr>\n",
       "    <tr>\n",
       "      <th>3</th>\n",
       "      <td>1515042000000000000</td>\n",
       "      <td>NaN</td>\n",
       "      <td>0.000000</td>\n",
       "    </tr>\n",
       "    <tr>\n",
       "      <th>4</th>\n",
       "      <td>1515128400000000000</td>\n",
       "      <td>NaN</td>\n",
       "      <td>0.000000</td>\n",
       "    </tr>\n",
       "    <tr>\n",
       "      <th>...</th>\n",
       "      <td>...</td>\n",
       "      <td>...</td>\n",
       "      <td>...</td>\n",
       "    </tr>\n",
       "    <tr>\n",
       "      <th>2187</th>\n",
       "      <td>1703739600000000000</td>\n",
       "      <td>1387.571718</td>\n",
       "      <td>1387.571718</td>\n",
       "    </tr>\n",
       "    <tr>\n",
       "      <th>2188</th>\n",
       "      <td>1703826000000000000</td>\n",
       "      <td>1409.906718</td>\n",
       "      <td>1409.906718</td>\n",
       "    </tr>\n",
       "    <tr>\n",
       "      <th>2189</th>\n",
       "      <td>1703912400000000000</td>\n",
       "      <td>1382.620412</td>\n",
       "      <td>1382.620412</td>\n",
       "    </tr>\n",
       "    <tr>\n",
       "      <th>2190</th>\n",
       "      <td>1703998800000000000</td>\n",
       "      <td>1345.482068</td>\n",
       "      <td>1345.482068</td>\n",
       "    </tr>\n",
       "    <tr>\n",
       "      <th>2191</th>\n",
       "      <td>1704085200000000000</td>\n",
       "      <td>1389.409130</td>\n",
       "      <td>1389.409130</td>\n",
       "    </tr>\n",
       "  </tbody>\n",
       "</table>\n",
       "<p>2192 rows × 3 columns</p>\n",
       "</div>"
      ],
      "text/plain": [
       "               Timestamps     ATR Data    ATR ATLAS\n",
       "0     1514782800000000000          NaN     0.000000\n",
       "1     1514869200000000000          NaN     0.000000\n",
       "2     1514955600000000000          NaN     0.000000\n",
       "3     1515042000000000000          NaN     0.000000\n",
       "4     1515128400000000000          NaN     0.000000\n",
       "...                   ...          ...          ...\n",
       "2187  1703739600000000000  1387.571718  1387.571718\n",
       "2188  1703826000000000000  1409.906718  1409.906718\n",
       "2189  1703912400000000000  1382.620412  1382.620412\n",
       "2190  1703998800000000000  1345.482068  1345.482068\n",
       "2191  1704085200000000000  1389.409130  1389.409130\n",
       "\n",
       "[2192 rows x 3 columns]"
      ]
     },
     "execution_count": 14,
     "metadata": {},
     "output_type": "execute_result"
    }
   ],
   "source": [
    "timestamps = exchange.getTimestamps()\n",
    "atr_2 = atr_node.getATR()[0]\n",
    "\n",
    "df_atr = pd.DataFrame({\n",
    "    \"Timestamps\": timestamps,\n",
    "    \n",
    "    \"ATR ATLAS\": atr_2\n",
    "})\n",
    "df_atr"
   ]
  },
  {
   "cell_type": "code",
   "execution_count": null,
   "metadata": {},
   "outputs": [],
   "source": []
  }
 ],
 "metadata": {
  "kernelspec": {
   "display_name": "Python 3",
   "language": "python",
   "name": "python3"
  },
  "language_info": {
   "codemirror_mode": {
    "name": "ipython",
    "version": 3
   },
   "file_extension": ".py",
   "mimetype": "text/x-python",
   "name": "python",
   "nbconvert_exporter": "python",
   "pygments_lexer": "ipython3",
   "version": "3.12.0"
  }
 },
 "nbformat": 4,
 "nbformat_minor": 2
}
