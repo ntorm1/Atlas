{
 "cells": [
  {
   "cell_type": "code",
   "execution_count": 1,
   "metadata": {},
   "outputs": [],
   "source": [
    "import sys\n",
    "import os\n",
    "import time\n",
    "import pandas as pd\n",
    "import numpy as np\n",
    "import matplotlib.pyplot as plt\n",
    "import seaborn as sns\n",
    "sns.set(style=\"darkgrid\")\n",
    "\n",
    "atlas_path = \"C:/Users/natha/OneDrive/Desktop/C++/Atlas/x64/Debug\"\n",
    "sys.path.append(atlas_path)\n",
    "\n",
    "\n",
    "from AtlasPy.core import Hydra, Portfolio, Strategy\n",
    "from AtlasPy.ast import *"
   ]
  },
  {
   "cell_type": "code",
   "execution_count": 2,
   "metadata": {},
   "outputs": [],
   "source": [
    "exchange_path = \"C:/Users/natha/OneDrive/Desktop/C++/Atlas/AtlasPy/src/exchangeVBT\"\n",
    "strategy_id = \"test_strategy\"\n",
    "exchange_id = \"test_exchange\"\n",
    "portfolio_id = \"test_portfolio\"\n",
    "\n",
    "hydra = Hydra()\n",
    "intial_cash = 100.0\n",
    "exchange = hydra.addExchange(exchange_id, exchange_path, \"%Y-%m-%d %H:%M:%S\")\n",
    "portfolio = hydra.addPortfolio(portfolio_id, exchange, intial_cash)\n",
    "hydra.build()"
   ]
  },
  {
   "cell_type": "code",
   "execution_count": 3,
   "metadata": {},
   "outputs": [
    {
     "name": "stdout",
     "output_type": "stream",
     "text": [
      "Elapsed time 14.27 ms\n"
     ]
    }
   ],
   "source": [
    "st = time.time()\n",
    "atr_node = ATRNode.make(\n",
    "    exchange,\n",
    "    \"High\",\n",
    "    \"Low\",\n",
    "    14\n",
    ") \n",
    "et = time.time()\n",
    "print(f'Elapsed time {1000*(et-st):.2f} ms')"
   ]
  },
  {
   "cell_type": "code",
   "execution_count": 6,
   "metadata": {},
   "outputs": [],
   "source": [
    "multiplier = 2\n",
    "median_node = AssetMedianNode.make(\n",
    "    exchange,\n",
    "    \"High\",\n",
    "    \"Low\"\n",
    ")\n",
    "close = AssetReadNode.make(\"Close\", 0, exchange)\n",
    "upper_band = AssetOpNode.make(\n",
    "    median_node,\n",
    "    AssetScalerNode(atr_node, AssetOpType.MULTIPLY, multiplier),\n",
    "    AssetOpType.ADD\n",
    ")\n",
    "lower_band = AssetOpNode.make(\n",
    "    median_node,\n",
    "    AssetScalerNode(atr_node, AssetOpType.MULTIPLY, multiplier),\n",
    "    AssetOpType.SUBTRACT\n",
    ")\n",
    "spread_upper = AssetOpNode.make(close, upper_band, AssetOpType.SUBTRACT)\n",
    "spread_lower = AssetOpNode.make(close, lower_band, AssetOpType.SUBTRACT)\n",
    "spread_filter_up = ExchangeViewFilter(ExchangeViewFilterType.GREATER_THAN, 0.0, None)\n",
    "spread_filter_down = ExchangeViewFilter(ExchangeViewFilterType.LESS_THAN, 0.0, None)\n",
    "exchange_view_up = ExchangeViewNode.make(exchange, spread_upper, spread_filter_up)\n",
    "exchange_view_down = ExchangeViewNode.make(exchange, spread_lower, spread_filter_down, exchange_view_up)\n",
    "allocation_signal = AllocationNode.make(\n",
    "    exchange_view_down,\n",
    "    AllocationType.CONDITIONAL_SPLIT,\n",
    "    0.0\n",
    ")\n",
    "strategy_node_signal = StrategyNode.make(allocation_signal, portfolio)\n",
    "strategy = hydra.addStrategy(Strategy(strategy_id, strategy_node_signal, 1.0), True)\n",
    "strategy.enableTracerHistory(TracerType.NLV)"
   ]
  },
  {
   "cell_type": "code",
   "execution_count": 7,
   "metadata": {},
   "outputs": [],
   "source": [
    "hydra.run()"
   ]
  },
  {
   "cell_type": "code",
   "execution_count": 9,
   "metadata": {},
   "outputs": [
    {
     "data": {
      "text/plain": [
       "[<matplotlib.lines.Line2D at 0x1a249003d10>]"
      ]
     },
     "execution_count": 9,
     "metadata": {},
     "output_type": "execute_result"
    },
    {
     "data": {
      "image/png": "[encoded data removed]",
      "text/plain": [
       "<Figure size 640x480 with 1 Axes>"
      ]
     },
     "metadata": {},
     "output_type": "display_data"
    }
   ],
   "source": [
    "plt.plot(strategy.getHistory(TracerType.NLV))"
   ]
  },
  {
   "cell_type": "code",
   "execution_count": null,
   "metadata": {},
   "outputs": [],
   "source": []
  }
 ],
 "metadata": {
  "kernelspec": {
   "display_name": "Python 3",
   "language": "python",
   "name": "python3"
  },
  "language_info": {
   "codemirror_mode": {
    "name": "ipython",
    "version": 3
   },
   "file_extension": ".py",
   "mimetype": "text/x-python",
   "name": "python",
   "nbconvert_exporter": "python",
   "pygments_lexer": "ipython3",
   "version": "3.12.0"
  }
 },
 "nbformat": 4,
 "nbformat_minor": 2
}
