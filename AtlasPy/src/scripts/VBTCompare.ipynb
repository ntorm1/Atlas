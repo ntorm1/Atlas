{
 "cells": [
  {
   "cell_type": "code",
   "execution_count": 1,
   "metadata": {},
   "outputs": [],
   "source": [
    "import sys\n",
    "import os\n",
    "import time\n",
    "import pandas as pd\n",
    "import numpy as np\n",
    "import matplotlib.pyplot as plt\n",
    "import seaborn as sns\n",
    "sns.set(style=\"darkgrid\")\n",
    "\n",
    "atlas_path = \"C:/Users/natha/OneDrive/Desktop/C++/Atlas/x64/Debug\"\n",
    "sys.path.append(atlas_path)\n",
    "\n",
    "\n",
    "from AtlasPy.core import Hydra, Portfolio, Strategy\n",
    "from AtlasPy.ast import *"
   ]
  },
  {
   "cell_type": "code",
   "execution_count": 2,
   "metadata": {},
   "outputs": [],
   "source": [
    "exchange_path = \"C:/Users/natha/OneDrive/Desktop/C++/Atlas/AtlasPy/src/exchangeVBT\"\n",
    "strategy_id = \"test_strategy\"\n",
    "exchange_id = \"test_exchange\"\n",
    "portfolio_id = \"test_portfolio\"\n",
    "\n",
    "hydra = Hydra()\n",
    "intial_cash = 100.0\n",
    "exchange = hydra.addExchange(exchange_id, exchange_path, \"%Y-%m-%d %H:%M:%S\")\n",
    "portfolio = hydra.addPortfolio(portfolio_id, exchange, intial_cash)\n",
    "hydra.build()"
   ]
  },
  {
   "cell_type": "code",
   "execution_count": 10,
   "metadata": {},
   "outputs": [
    {
     "name": "stdout",
     "output_type": "stream",
     "text": [
      "Elapsed time: 713.77 ms\n",
      "Total return: 1.2212700459014085\n"
     ]
    }
   ],
   "source": [
    "st = time.time()\n",
    "fast_n = 6\n",
    "slow_n = 12\n",
    "windows = np.arange(5, 11)\n",
    "\n",
    "close = AssetReadNode.make(\"Close\", 0, exchange)\n",
    "fast_ma = MeanObserverNode(\n",
    "    close,\n",
    "    fast_n\n",
    ")\n",
    "slow_ma = MeanObserverNode(\n",
    "    close,\n",
    "    slow_n\n",
    ")\n",
    "\n",
    "spread = AssetOpNode.make(fast_ma, slow_ma, AssetOpType.SUBTRACT)\n",
    "spread_filter = ExchangeViewFilter(ExchangeViewFilterType.GREATER_THAN, 0.0, None)\n",
    "exchange_view = ExchangeViewNode.make(exchange, spread, spread_filter)\n",
    "\n",
    "fast_ma_dim = GridDimensionObserver.make(\n",
    "    name=\"Fast MA\",\n",
    "    dimension_values=windows,\n",
    "    observer_base=fast_ma,\n",
    "    observer_child=spread,\n",
    "    swap_addr=spread.getSwapLeft()\n",
    ")\n",
    "slow_ma_dim = GridDimensionObserver.make(\n",
    "    name=\"Slow MA\",\n",
    "    dimension_values=windows,\n",
    "    observer_base=slow_ma,\n",
    "    observer_child=spread,\n",
    "    swap_addr=spread.getSwapRight()\n",
    ")\n",
    "\n",
    "allocation = AllocationNode.make(exchange_view)\n",
    "strategy_node = StrategyNode.make(allocation, portfolio)\n",
    "strategy = hydra.addStrategy(Strategy(strategy_id, strategy_node, 1.0), True)\n",
    "grid = strategy.setGridDimmensions((fast_ma_dim, slow_ma_dim))\n",
    "grid.enableTracerHistory(TracerType.NLV)\n",
    "strategy.enableTracerHistory(TracerType.NLV)\n",
    "hydra.run()\n",
    "\n",
    "nlv = strategy.getHistory(TracerType.NLV)\n",
    "returns = nlv[-1] / nlv[0] - 1\n",
    "\n",
    "et = time.time()\n",
    "print(f'Elapsed time: {1000*(et-st):.2f} ms')\n",
    "print(f'Total return: {returns}')"
   ]
  },
  {
   "cell_type": "code",
   "execution_count": 11,
   "metadata": {},
   "outputs": [
    {
     "name": "stdout",
     "output_type": "stream",
     "text": [
      "Returns:  1.2212700459014085\n"
     ]
    }
   ],
   "source": [
    "nlv = strategy.getHistory(TracerType.NLV)\n",
    "timestamps = pd.to_datetime(exchange.getTimestamps())\n",
    "returns = nlv[-1] / nlv[0] - 1\n",
    "print(\"Returns: \", returns)"
   ]
  },
  {
   "cell_type": "code",
   "execution_count": 12,
   "metadata": {},
   "outputs": [
    {
     "data": {
      "text/plain": [
       "{(5, 6): 2.0959537612945423,\n",
       " (5, 7): 1.647424549756637,\n",
       " (5, 8): 4.704818981171171,\n",
       " (5, 9): 2.629302608885226,\n",
       " (5, 10): 2.098764661230769,\n",
       " (6, 7): 4.468969951287569,\n",
       " (6, 8): 5.106150380943816,\n",
       " (6, 9): 3.5521623341988864,\n",
       " (6, 10): 2.211440777292788,\n",
       " (7, 8): 7.70781073250849,\n",
       " (7, 9): 1.3559104370733963,\n",
       " (7, 10): 2.2361199974943746,\n",
       " (8, 9): 0.23387927412516785,\n",
       " (8, 10): 1.8206289085586387,\n",
       " (9, 10): 3.5219102505975597}"
      ]
     },
     "execution_count": 12,
     "metadata": {},
     "output_type": "execute_result"
    }
   ],
   "source": [
    "rows = grid.rows()\n",
    "cols = grid.cols()\n",
    "\n",
    "pairs = []\n",
    "nlvs = []\n",
    "returns_dict = {}\n",
    "for i in range(rows):\n",
    "    for j in range(cols):\n",
    "        if i >= j:\n",
    "            continue\n",
    "\n",
    "        pairs.append((windows[i], windows[j]))\n",
    "        tracer = grid.getTracer(i, j)\n",
    "        nlv = tracer.getHistory(TracerType.NLV)\n",
    "        returns = nlv[-1] / nlv[0] - 1\n",
    "        returns_dict[pairs[-1]] = returns\n",
    "        nlvs.append(nlv)\n",
    "\n",
    "returns_dict"
   ]
  },
  {
   "cell_type": "code",
   "execution_count": 6,
   "metadata": {},
   "outputs": [
    {
     "name": "stdout",
     "output_type": "stream",
     "text": [
      "Average return: 3.8471186759284643\n"
     ]
    }
   ],
   "source": [
    "avg = np.mean(list(returns_dict.values()))\n",
    "print(f'Average return: {avg}')"
   ]
  },
  {
   "cell_type": "code",
   "execution_count": null,
   "metadata": {},
   "outputs": [],
   "source": []
  },
  {
   "cell_type": "code",
   "execution_count": null,
   "metadata": {},
   "outputs": [],
   "source": []
  }
 ],
 "metadata": {
  "kernelspec": {
   "display_name": "Python 3",
   "language": "python",
   "name": "python3"
  },
  "language_info": {
   "codemirror_mode": {
    "name": "ipython",
    "version": 3
   },
   "file_extension": ".py",
   "mimetype": "text/x-python",
   "name": "python",
   "nbconvert_exporter": "python",
   "pygments_lexer": "ipython3",
   "version": "3.12.0"
  }
 },
 "nbformat": 4,
 "nbformat_minor": 2
}
