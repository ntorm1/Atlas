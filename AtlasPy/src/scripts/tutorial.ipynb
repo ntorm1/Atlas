{
 "cells": [
  {
   "cell_type": "code",
   "execution_count": 2,
   "metadata": {},
   "outputs": [],
   "source": [
    "import time\n",
    "import sys\n",
    "import os\n",
    "\n",
    "import pandas as pd\n",
    "import numpy as np\n",
    "import matplotlib.pyplot as plt\n",
    "import bt\n",
    "import seaborn as sns\n",
    "sns.set(style=\"darkgrid\")\n",
    "\n",
    "atlas_path = \"C:/Users/natha/OneDrive/Desktop/C++/Atlas/x64/Release\"\n",
    "sys.path.append(atlas_path)\n",
    "\n",
    "from AtlasPy.core import Hydra, Portfolio, Strategy\n",
    "from AtlasPy.ast import *"
   ]
  },
  {
   "cell_type": "code",
   "execution_count": 3,
   "metadata": {},
   "outputs": [
    {
     "name": "stderr",
     "output_type": "stream",
     "text": [
      "[*********************100%%**********************]  1 of 1 completed\n",
      "[*********************100%%**********************]  1 of 1 completed\n",
      "[*********************100%%**********************]  1 of 1 completed\n",
      "[*********************100%%**********************]  1 of 1 completed\n",
      "[*********************100%%**********************]  1 of 1 completed\n",
      "[*********************100%%**********************]  1 of 1 completed\n",
      "[*********************100%%**********************]  1 of 1 completed\n",
      "[*********************100%%**********************]  1 of 1 completed\n",
      "[*********************100%%**********************]  1 of 1 completed\n",
      "[*********************100%%**********************]  1 of 1 completed\n",
      "[*********************100%%**********************]  1 of 1 completed\n",
      "[*********************100%%**********************]  1 of 1 completed\n",
      "[*********************100%%**********************]  1 of 1 completed\n",
      "[*********************100%%**********************]  1 of 1 completed\n"
     ]
    }
   ],
   "source": [
    "tickers_new = 'aapl,msft,c,gs,ge,jnj,pg,ko,amzn,jpm,adbe,ma,dis,txn'\n",
    "data = bt.get(\n",
    "    tickers_new,\n",
    "    start='2010-01-01',\n",
    "    end = '2024-01-01'\n",
    ")\n",
    "data.tail()\n",
    "\n",
    "out_path = r'C:\\Users\\natha\\OneDrive\\Desktop\\Rust\\atlas\\crates\\atlas\\src\\test\\data\\sp500'\n",
    "for col in data.columns:\n",
    "    df_ticker = pd.DataFrame(data[col])\n",
    "    df_ticker.columns = [\"close\"]\n",
    "    df_ticker.to_csv(os.path.join(out_path, col + '.csv'))"
   ]
  },
  {
   "cell_type": "code",
   "execution_count": 5,
   "metadata": {},
   "outputs": [],
   "source": [
    "exchange_path = r'C:\\Users\\natha\\OneDrive\\Desktop\\Rust\\atlas\\crates\\atlas\\src\\test\\data\\sp500'\n",
    "strategy_id = \"test_strategy\"\n",
    "exchange_id = \"test_exchange\"\n",
    "portfolio_id = \"test_portfolio\"\n",
    "\n",
    "hydra = Hydra()\n",
    "intial_cash = 100.0\n",
    "exchange = hydra.addExchange(exchange_id, exchange_path, \"%Y-%m-%d\")\n",
    "portfolio = hydra.addPortfolio(portfolio_id, exchange, intial_cash)\n",
    "hydra.build()"
   ]
  },
  {
   "cell_type": "code",
   "execution_count": 10,
   "metadata": {},
   "outputs": [],
   "source": [
    "close = AssetReadNode.make(\"close\", 0, exchange)\n",
    "ma = MeanObserverNode(close, 50)\n",
    "spread = AssetOpNode.make(close, ma, AssetOpType.SUBTRACT)\n",
    "filter = ExchangeViewFilter(ExchangeViewFilterType.GREATER_THAN, 0.0, None)\n",
    "ev = ExchangeViewNode.make(exchange, spread, filter)\n",
    "\n",
    "allocation = AllocationNode.make(\n",
    "    ev\n",
    ")\n",
    "strategy_node_signal = StrategyNode.make(allocation, portfolio)\n",
    "strategy = hydra.addStrategy(Strategy(strategy_id, strategy_node_signal, 1.0), True)\n",
    "strategy.enableTracerHistory(TracerType.NLV)"
   ]
  },
  {
   "cell_type": "code",
   "execution_count": 12,
   "metadata": {},
   "outputs": [
    {
     "name": "stdout",
     "output_type": "stream",
     "text": [
      "Time to Run: 0.8227ms\n"
     ]
    }
   ],
   "source": [
    "st = time.perf_counter_ns()\n",
    "hydra.run()\n",
    "et = time.perf_counter_ns()\n",
    "print(f\"Time to Run: {(et-st)/1e6}ms\")"
   ]
  },
  {
   "cell_type": "code",
   "execution_count": 14,
   "metadata": {},
   "outputs": [
    {
     "name": "stdout",
     "output_type": "stream",
     "text": [
      "Returns: 4.427639459014664\n"
     ]
    }
   ],
   "source": [
    "nlv = strategy.getHistory(TracerType.NLV)\n",
    "returns = (nlv[-1] - nlv[0] ) / nlv[0]\n",
    "print(f\"Returns: {returns}\")"
   ]
  },
  {
   "cell_type": "code",
   "execution_count": null,
   "metadata": {},
   "outputs": [],
   "source": []
  }
 ],
 "metadata": {
  "kernelspec": {
   "display_name": "Python 3",
   "language": "python",
   "name": "python3"
  },
  "language_info": {
   "codemirror_mode": {
    "name": "ipython",
    "version": 3
   },
   "file_extension": ".py",
   "mimetype": "text/x-python",
   "name": "python",
   "nbconvert_exporter": "python",
   "pygments_lexer": "ipython3",
   "version": "3.12.0"
  }
 },
 "nbformat": 4,
 "nbformat_minor": 2
}
