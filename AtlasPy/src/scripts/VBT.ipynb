{
 "cells": [
  {
   "cell_type": "code",
   "execution_count": 1,
   "metadata": {},
   "outputs": [],
   "source": [
    "import os\n",
    "import time\n",
    "import sys\n",
    "\n",
    "import vectorbt as vbt\n",
    "import pandas as pd"
   ]
  },
  {
   "cell_type": "code",
   "execution_count": 2,
   "metadata": {},
   "outputs": [
    {
     "data": {
      "text/plain": [
       "<vectorbt.data.custom.YFData at 0x22461cd7430>"
      ]
     },
     "execution_count": 2,
     "metadata": {},
     "output_type": "execute_result"
    }
   ],
   "source": [
    "price = vbt.YFData.download('BTC-USD', start='2018-01-01', end = '2024-01-01')\n",
    "price"
   ]
  },
  {
   "cell_type": "code",
   "execution_count": 14,
   "metadata": {},
   "outputs": [
    {
     "name": "stdout",
     "output_type": "stream",
     "text": [
      "Elapsed time: 50.77 ms\n"
     ]
    }
   ],
   "source": [
    "st = time.time()\n",
    "close = price.get('Close')\n",
    "fast_ma = vbt.MA.run(close, 50, short_name='fast_ma')\n",
    "slow_ma = vbt.MA.run(close, 200, short_name='slow_ma')\n",
    "entries = fast_ma.ma_crossed_above(slow_ma)\n",
    "exits = fast_ma.ma_crossed_below(slow_ma)\n",
    "pf = vbt.Portfolio.from_signals(close, entries, exits, fees=0.005)\n",
    "et = time.time()\n",
    "print(f'Elapsed time: {1000*(et-st):.2f} ms')"
   ]
  },
  {
   "cell_type": "code",
   "execution_count": 1,
   "metadata": {},
   "outputs": [],
   "source": [
    "#pf.orders.records_readable"
   ]
  },
  {
   "cell_type": "code",
   "execution_count": 19,
   "metadata": {},
   "outputs": [
    {
     "data": {
      "text/plain": [
       "Date\n",
       "2018-01-01 00:00:00+00:00    13657.200195\n",
       "2018-01-02 00:00:00+00:00    14982.099609\n",
       "2018-01-03 00:00:00+00:00    15201.000000\n",
       "2018-01-04 00:00:00+00:00    15599.200195\n",
       "2018-01-05 00:00:00+00:00    17429.500000\n",
       "                                 ...     \n",
       "2023-12-28 00:00:00+00:00    42627.855469\n",
       "2023-12-29 00:00:00+00:00    42099.402344\n",
       "2023-12-30 00:00:00+00:00    42156.902344\n",
       "2023-12-31 00:00:00+00:00    42265.187500\n",
       "2024-01-01 00:00:00+00:00    44167.332031\n",
       "Freq: D, Name: Close, Length: 2192, dtype: float64"
      ]
     },
     "execution_count": 19,
     "metadata": {},
     "output_type": "execute_result"
    }
   ],
   "source": [
    "# save price data to file\n",
    "df"
   ]
  },
  {
   "cell_type": "code",
   "execution_count": 21,
   "metadata": {},
   "outputs": [],
   "source": [
    "df= price.data['BTC-USD'][\"Close\"]\n",
    "df.to_csv('btc_usd.csv')"
   ]
  },
  {
   "cell_type": "code",
   "execution_count": null,
   "metadata": {},
   "outputs": [],
   "source": []
  }
 ],
 "metadata": {
  "kernelspec": {
   "display_name": "Python 3",
   "language": "python",
   "name": "python3"
  },
  "language_info": {
   "codemirror_mode": {
    "name": "ipython",
    "version": 3
   },
   "file_extension": ".py",
   "mimetype": "text/x-python",
   "name": "python",
   "nbconvert_exporter": "python",
   "pygments_lexer": "ipython3",
   "version": "3.8.10"
  }
 },
 "nbformat": 4,
 "nbformat_minor": 2
}
