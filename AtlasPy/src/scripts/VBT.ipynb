{
 "cells": [
  {
   "cell_type": "code",
   "execution_count": 51,
   "metadata": {},
   "outputs": [],
   "source": [
    "import os\n",
    "import time\n",
    "import sys\n",
    "import numpy as np\n",
    "import vectorbt as vbt\n",
    "import pandas as pd"
   ]
  },
  {
   "cell_type": "code",
   "execution_count": 79,
   "metadata": {},
   "outputs": [
    {
     "data": {
      "text/plain": [
       "<vectorbt.data.custom.YFData at 0x22b4eeb8280>"
      ]
     },
     "execution_count": 79,
     "metadata": {},
     "output_type": "execute_result"
    }
   ],
   "source": [
    "price = vbt.YFData.download('BTC-USD', start='2018-01-01', end = '2024-01-01')\n",
    "price"
   ]
  },
  {
   "cell_type": "code",
   "execution_count": 87,
   "metadata": {},
   "outputs": [
    {
     "name": "stdout",
     "output_type": "stream",
     "text": [
      "Elapsed time: 38.49 ms\n",
      "Total return: 2.09876466123077\n"
     ]
    }
   ],
   "source": [
    "st = time.time()\n",
    "close = price.get('Close')\n",
    "fast_ma = vbt.MA.run(close, 5, short_name='fast_ma')\n",
    "slow_ma = vbt.MA.run(close, 10, short_name='slow_ma')\n",
    "entries = fast_ma.ma_crossed_above(slow_ma)\n",
    "exits = fast_ma.ma_crossed_below(slow_ma)\n",
    "pf = vbt.Portfolio.from_signals(close, entries, exits, fees=0.000)\n",
    "et = time.time()\n",
    "print(f'Elapsed time: {1000*(et-st):.2f} ms')\n",
    "print(f'Total return: {pf.total_return()}')"
   ]
  },
  {
   "cell_type": "code",
   "execution_count": 83,
   "metadata": {},
   "outputs": [
    {
     "data": {
      "application/vnd.jupyter.widget-view+json": {
       "model_id": "85dd65476e184484a0dbed3d8607bb54",
       "version_major": 2,
       "version_minor": 0
      },
      "text/plain": [
       "FigureWidget({\n",
       "    'data': [{'line': {'color': '#7f7f7f'},\n",
       "              'name': 'Benchmark',\n",
       "              'showlegend': True,\n",
       "              'type': 'scatter',\n",
       "              'uid': 'b7a16da6-3135-4e64-9209-bd76dbc9d617',\n",
       "              'x': array([datetime.datetime(2018, 1, 1, 0, 0, tzinfo=datetime.timezone.utc),\n",
       "                          datetime.datetime(2018, 1, 2, 0, 0, tzinfo=datetime.timezone.utc),\n",
       "                          datetime.datetime(2018, 1, 3, 0, 0, tzinfo=datetime.timezone.utc), ...,\n",
       "                          datetime.datetime(2023, 12, 30, 0, 0, tzinfo=datetime.timezone.utc),\n",
       "                          datetime.datetime(2023, 12, 31, 0, 0, tzinfo=datetime.timezone.utc),\n",
       "                          datetime.datetime(2024, 1, 1, 0, 0, tzinfo=datetime.timezone.utc)],\n",
       "                         dtype=object),\n",
       "              'y': array([1.        , 1.09701106, 1.11303926, ..., 3.08678951, 3.09471831,\n",
       "                          3.23399609])},\n",
       "             {'hoverinfo': 'skip',\n",
       "              'line': {'color': 'rgba(0, 0, 0, 0)', 'width': 0},\n",
       "              'opacity': 0,\n",
       "              'showlegend': False,\n",
       "              'type': 'scatter',\n",
       "              'uid': '480c00c6-b891-42b8-8271-8147e159c871',\n",
       "              'x': array([datetime.datetime(2018, 1, 1, 0, 0, tzinfo=datetime.timezone.utc),\n",
       "                          datetime.datetime(2018, 1, 2, 0, 0, tzinfo=datetime.timezone.utc),\n",
       "                          datetime.datetime(2018, 1, 3, 0, 0, tzinfo=datetime.timezone.utc), ...,\n",
       "                          datetime.datetime(2023, 12, 30, 0, 0, tzinfo=datetime.timezone.utc),\n",
       "                          datetime.datetime(2023, 12, 31, 0, 0, tzinfo=datetime.timezone.utc),\n",
       "                          datetime.datetime(2024, 1, 1, 0, 0, tzinfo=datetime.timezone.utc)],\n",
       "                         dtype=object),\n",
       "              'y': array([1, 1, 1, ..., 1, 1, 1])},\n",
       "             {'connectgaps': False,\n",
       "              'fill': 'tonexty',\n",
       "              'fillcolor': 'rgba(0, 128, 0, 0.3)',\n",
       "              'hoverinfo': 'skip',\n",
       "              'line': {'color': 'rgba(0, 0, 0, 0)', 'width': 0},\n",
       "              'opacity': 0,\n",
       "              'showlegend': False,\n",
       "              'type': 'scatter',\n",
       "              'uid': 'db9cf3af-af5f-4e97-b625-c5b428cf5c5b',\n",
       "              'x': array([datetime.datetime(2018, 1, 1, 0, 0, tzinfo=datetime.timezone.utc),\n",
       "                          datetime.datetime(2018, 1, 2, 0, 0, tzinfo=datetime.timezone.utc),\n",
       "                          datetime.datetime(2018, 1, 3, 0, 0, tzinfo=datetime.timezone.utc), ...,\n",
       "                          datetime.datetime(2023, 12, 30, 0, 0, tzinfo=datetime.timezone.utc),\n",
       "                          datetime.datetime(2023, 12, 31, 0, 0, tzinfo=datetime.timezone.utc),\n",
       "                          datetime.datetime(2024, 1, 1, 0, 0, tzinfo=datetime.timezone.utc)],\n",
       "                         dtype=object),\n",
       "              'y': array([1.        , 1.        , 1.        , ..., 4.90093294, 4.91352159,\n",
       "                          5.1346546 ])},\n",
       "             {'hoverinfo': 'skip',\n",
       "              'line': {'color': 'rgba(0, 0, 0, 0)', 'width': 0},\n",
       "              'opacity': 0,\n",
       "              'showlegend': False,\n",
       "              'type': 'scatter',\n",
       "              'uid': '5db76564-27cc-499b-9bf8-60d3e57652b7',\n",
       "              'x': array([datetime.datetime(2018, 1, 1, 0, 0, tzinfo=datetime.timezone.utc),\n",
       "                          datetime.datetime(2018, 1, 2, 0, 0, tzinfo=datetime.timezone.utc),\n",
       "                          datetime.datetime(2018, 1, 3, 0, 0, tzinfo=datetime.timezone.utc), ...,\n",
       "                          datetime.datetime(2023, 12, 30, 0, 0, tzinfo=datetime.timezone.utc),\n",
       "                          datetime.datetime(2023, 12, 31, 0, 0, tzinfo=datetime.timezone.utc),\n",
       "                          datetime.datetime(2024, 1, 1, 0, 0, tzinfo=datetime.timezone.utc)],\n",
       "                         dtype=object),\n",
       "              'y': array([1, 1, 1, ..., 1, 1, 1])},\n",
       "             {'connectgaps': False,\n",
       "              'fill': 'tonexty',\n",
       "              'fillcolor': 'rgba(255, 0, 0, 0.3)',\n",
       "              'hoverinfo': 'skip',\n",
       "              'line': {'color': 'rgba(0, 0, 0, 0)', 'width': 0},\n",
       "              'opacity': 0,\n",
       "              'showlegend': False,\n",
       "              'type': 'scatter',\n",
       "              'uid': '848ad58b-14bc-4ef2-8017-5959d0cbfb2e',\n",
       "              'x': array([datetime.datetime(2018, 1, 1, 0, 0, tzinfo=datetime.timezone.utc),\n",
       "                          datetime.datetime(2018, 1, 2, 0, 0, tzinfo=datetime.timezone.utc),\n",
       "                          datetime.datetime(2018, 1, 3, 0, 0, tzinfo=datetime.timezone.utc), ...,\n",
       "                          datetime.datetime(2023, 12, 30, 0, 0, tzinfo=datetime.timezone.utc),\n",
       "                          datetime.datetime(2023, 12, 31, 0, 0, tzinfo=datetime.timezone.utc),\n",
       "                          datetime.datetime(2024, 1, 1, 0, 0, tzinfo=datetime.timezone.utc)],\n",
       "                         dtype=object),\n",
       "              'y': array([1., 1., 1., ..., 1., 1., 1.])},\n",
       "             {'line': {'color': '#9467bd'},\n",
       "              'name': 'Value',\n",
       "              'showlegend': True,\n",
       "              'type': 'scatter',\n",
       "              'uid': 'a9670c65-f27a-4bff-8e04-5429bcd6e03a',\n",
       "              'x': array([datetime.datetime(2018, 1, 1, 0, 0, tzinfo=datetime.timezone.utc),\n",
       "                          datetime.datetime(2018, 1, 2, 0, 0, tzinfo=datetime.timezone.utc),\n",
       "                          datetime.datetime(2018, 1, 3, 0, 0, tzinfo=datetime.timezone.utc), ...,\n",
       "                          datetime.datetime(2023, 12, 30, 0, 0, tzinfo=datetime.timezone.utc),\n",
       "                          datetime.datetime(2023, 12, 31, 0, 0, tzinfo=datetime.timezone.utc),\n",
       "                          datetime.datetime(2024, 1, 1, 0, 0, tzinfo=datetime.timezone.utc)],\n",
       "                         dtype=object),\n",
       "              'y': array([1.        , 1.        , 1.        , ..., 4.90093294, 4.91352159,\n",
       "                          5.1346546 ])},\n",
       "             {'hoverinfo': 'skip',\n",
       "              'line': {'color': 'rgba(0, 0, 0, 0)', 'width': 0},\n",
       "              'opacity': 0.0,\n",
       "              'showlegend': False,\n",
       "              'type': 'scatter',\n",
       "              'uid': 'e51b9707-3436-4824-bdf3-5e256309dda5',\n",
       "              'x': array([datetime.datetime(2018, 1, 1, 0, 0, tzinfo=datetime.timezone.utc),\n",
       "                          datetime.datetime(2018, 1, 2, 0, 0, tzinfo=datetime.timezone.utc),\n",
       "                          datetime.datetime(2018, 1, 3, 0, 0, tzinfo=datetime.timezone.utc), ...,\n",
       "                          datetime.datetime(2023, 12, 30, 0, 0, tzinfo=datetime.timezone.utc),\n",
       "                          datetime.datetime(2023, 12, 31, 0, 0, tzinfo=datetime.timezone.utc),\n",
       "                          datetime.datetime(2024, 1, 1, 0, 0, tzinfo=datetime.timezone.utc)],\n",
       "                         dtype=object),\n",
       "              'y': array([1, 1, 1, ..., 1, 1, 1])}],\n",
       "    'layout': {'height': 350,\n",
       "               'legend': {'orientation': 'h',\n",
       "                          'traceorder': 'normal',\n",
       "                          'x': 1,\n",
       "                          'xanchor': 'right',\n",
       "                          'y': 1.02,\n",
       "                          'yanchor': 'bottom'},\n",
       "               'margin': {'b': 30, 'l': 30, 'r': 30, 't': 30},\n",
       "               'shapes': [{'line': {'color': 'gray', 'dash': 'dash'},\n",
       "                           'type': 'line',\n",
       "                           'x0': 0,\n",
       "                           'x1': 1,\n",
       "                           'xref': 'paper',\n",
       "                           'y0': 1,\n",
       "                           'y1': 1,\n",
       "                           'yref': 'y'}],\n",
       "               'template': '...',\n",
       "               'width': 700}\n",
       "})"
      ]
     },
     "execution_count": 83,
     "metadata": {},
     "output_type": "execute_result"
    }
   ],
   "source": [
    "#pf.orders.records_readable\n",
    "\n",
    "pf.plot_cum_returns()\n"
   ]
  },
  {
   "cell_type": "code",
   "execution_count": 89,
   "metadata": {},
   "outputs": [
    {
     "data": {
      "text/plain": [
       "(2192,)"
      ]
     },
     "execution_count": 89,
     "metadata": {},
     "output_type": "execute_result"
    }
   ],
   "source": [
    "symbols = [\"BTC-USD\"]\n",
    "price = vbt.YFData.download(\n",
    "    symbols, \n",
    "    start='2018-01-01',\n",
    "    end = '2024-01-01',\n",
    "    missing_index='drop').get('Close')\n",
    "price.shape"
   ]
  },
  {
   "cell_type": "code",
   "execution_count": 136,
   "metadata": {},
   "outputs": [
    {
     "name": "stdout",
     "output_type": "stream",
     "text": [
      "Elapsed time: 55.98 ms\n"
     ]
    }
   ],
   "source": [
    "st = time.time()\n",
    "windows = np.arange(5, 11)\n",
    "fast_ma, slow_ma = vbt.MA.run_combs(price, window=windows, r=2, short_names=['fast', 'slow'])\n",
    "entries = fast_ma.ma_crossed_above(slow_ma)\n",
    "exits = fast_ma.ma_crossed_below(slow_ma)\n",
    "\n",
    "pf_kwargs = dict(size=np.inf, fees=0.000, freq='1D')\n",
    "pf = vbt.Portfolio.from_signals(price, entries, exits, **pf_kwargs)\n",
    "et = time.time()\n",
    "print(f'Elapsed time: {1000*(et-st):.2f} ms')"
   ]
  },
  {
   "cell_type": "code",
   "execution_count": 137,
   "metadata": {},
   "outputs": [
    {
     "data": {
      "text/plain": [
       "2.9724106456555077"
      ]
     },
     "execution_count": 137,
     "metadata": {},
     "output_type": "execute_result"
    }
   ],
   "source": [
    "np.mean(pf.total_return().values)"
   ]
  },
  {
   "cell_type": "code",
   "execution_count": 138,
   "metadata": {},
   "outputs": [
    {
     "data": {
      "text/plain": [
       "fast_window  slow_window\n",
       "5            6              2.095954\n",
       "             7              1.647425\n",
       "             8              4.704819\n",
       "             9              2.629303\n",
       "             10             2.098765\n",
       "             11             2.507180\n",
       "             12             2.468184\n",
       "6            7              4.468970\n",
       "             8              5.106150\n",
       "             9              3.552162\n",
       "             10             2.211441\n",
       "             11             2.216959\n",
       "             12             2.690064\n",
       "7            8              7.707811\n",
       "             9              1.355910\n",
       "             10             2.236120\n",
       "             11             1.633518\n",
       "             12             2.774546\n",
       "8            9              0.233879\n",
       "             10             1.820629\n",
       "             11             3.630939\n",
       "             12             2.481364\n",
       "9            10             3.521910\n",
       "             11             6.969953\n",
       "             12             2.732578\n",
       "10           11             4.286548\n",
       "             12             1.316140\n",
       "11           12             2.128278\n",
       "Name: total_return, dtype: float64"
      ]
     },
     "execution_count": 138,
     "metadata": {},
     "output_type": "execute_result"
    }
   ],
   "source": [
    "pf.total_return()"
   ]
  },
  {
   "cell_type": "code",
   "execution_count": null,
   "metadata": {},
   "outputs": [],
   "source": []
  }
 ],
 "metadata": {
  "kernelspec": {
   "display_name": "Python 3",
   "language": "python",
   "name": "python3"
  },
  "language_info": {
   "codemirror_mode": {
    "name": "ipython",
    "version": 3
   },
   "file_extension": ".py",
   "mimetype": "text/x-python",
   "name": "python",
   "nbconvert_exporter": "python",
   "pygments_lexer": "ipython3",
   "version": "3.8.10"
  }
 },
 "nbformat": 4,
 "nbformat_minor": 2
}
