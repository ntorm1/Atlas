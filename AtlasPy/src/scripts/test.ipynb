{
 "cells": [
  {
   "cell_type": "code",
   "execution_count": 2,
   "metadata": {},
   "outputs": [],
   "source": [
    "import sys\n",
    "import os\n",
    "import time\n",
    "import pandas as pd\n",
    "import numpy as np\n",
    "import matplotlib.pyplot as plt\n",
    "import statsmodels.api as sm\n",
    "\n",
    "atlas_path = \"C:/Users/natha/OneDrive/Desktop/C++/Atlas/x64/Debug\"\n",
    "sys.path.append(atlas_path)\n",
    "\n",
    "\n",
    "from AtlasPy.core import Hydra, Portfolio, Strategy\n",
    "from AtlasPy.ast import *\n",
    "from AtlasPy.model import *"
   ]
  },
  {
   "cell_type": "code",
   "execution_count": 3,
   "metadata": {},
   "outputs": [],
   "source": [
    "exchange_path = \"C:/Users/natha/OneDrive/Desktop/C++/Atlas/AtlasPy/src/exchangeVBT\"\n",
    "strategy_id = \"test_strategy\"\n",
    "exchange_id = \"test_exchange\"\n",
    "portfolio_id = \"test_portfolio\"\n",
    "\n",
    "hydra = Hydra()\n",
    "intial_cash = 100.0\n",
    "exchange = hydra.addExchange(exchange_id, exchange_path, \"\")\n",
    "portfolio = hydra.addPortfolio(portfolio_id, exchange, intial_cash)\n",
    "hydra.build()"
   ]
  },
  {
   "cell_type": "code",
   "execution_count": 4,
   "metadata": {},
   "outputs": [],
   "source": [
    "st = time.perf_counter_ns()\n",
    "n = 2\n",
    "close = AssetReadNode.make(\"Close\", 0, exchange)\n",
    "open = AssetReadNode.make(\"Open\", 0, exchange)\n",
    "prev_close = AssetReadNode.make(\"Close\", -1, exchange)\n",
    "\n",
    "feat1 = AssetOpNode.make(\n",
    "    close,\n",
    "    prev_close,\n",
    "    AssetOpType.SUBTRACT\n",
    ")\n",
    "feat2 = AssetOpNode.make(\n",
    "    close,\n",
    "    open,\n",
    "    AssetOpType.SUBTRACT\n",
    ")\n",
    "target = ModelTarget(\n",
    "    close,\n",
    "    ModelTargetType.ABSOLUTE,\n",
    "    2\n",
    ")"
   ]
  },
  {
   "cell_type": "code",
   "execution_count": 5,
   "metadata": {},
   "outputs": [],
   "source": [
    "config = ModelConfig(\n",
    "    training_window = 5,\n",
    "    walk_forward_window = 3,\n",
    "    model_type = ModelType.LINEAR_REGRESSION,\n",
    "    exchange = exchange,\n",
    ")\n",
    "lr_config = LinearRegressionModelConfig(\n",
    "    config,\n",
    "    LinearRegressionSolver.LDLT,\n",
    "    True\n",
    ")\n",
    "lr_model = LinearRegressionModel(\n",
    "    \"lr_model\",\n",
    "    [feat1, feat2],\n",
    "    target,\n",
    "    lr_config\n",
    ")\n",
    "exchange.registerModel(lr_model)\n",
    "\n",
    "for i in range(6):\n",
    "    hydra.step()"
   ]
  },
  {
   "cell_type": "code",
   "execution_count": 17,
   "metadata": {},
   "outputs": [
    {
     "data": {
      "text/html": [
       "<div>\n",
       "<style scoped>\n",
       "    .dataframe tbody tr th:only-of-type {\n",
       "        vertical-align: middle;\n",
       "    }\n",
       "\n",
       "    .dataframe tbody tr th {\n",
       "        vertical-align: top;\n",
       "    }\n",
       "\n",
       "    .dataframe thead th {\n",
       "        text-align: right;\n",
       "    }\n",
       "</style>\n",
       "<table border=\"1\" class=\"dataframe\">\n",
       "  <thead>\n",
       "    <tr style=\"text-align: right;\">\n",
       "      <th></th>\n",
       "      <th>Open</th>\n",
       "      <th>High</th>\n",
       "      <th>Low</th>\n",
       "      <th>Close</th>\n",
       "      <th>feat_1</th>\n",
       "      <th>feat_2</th>\n",
       "      <th>target</th>\n",
       "    </tr>\n",
       "    <tr>\n",
       "      <th>Date</th>\n",
       "      <th></th>\n",
       "      <th></th>\n",
       "      <th></th>\n",
       "      <th></th>\n",
       "      <th></th>\n",
       "      <th></th>\n",
       "      <th></th>\n",
       "    </tr>\n",
       "  </thead>\n",
       "  <tbody>\n",
       "    <tr>\n",
       "      <th>2018-01-01 00:00:00+00:00</th>\n",
       "      <td>14112.200195</td>\n",
       "      <td>14112.200195</td>\n",
       "      <td>13154.700195</td>\n",
       "      <td>13657.200195</td>\n",
       "      <td>NaN</td>\n",
       "      <td>-455.000000</td>\n",
       "      <td>15201.000000</td>\n",
       "    </tr>\n",
       "    <tr>\n",
       "      <th>2018-01-02 00:00:00+00:00</th>\n",
       "      <td>13625.000000</td>\n",
       "      <td>15444.599609</td>\n",
       "      <td>13163.599609</td>\n",
       "      <td>14982.099609</td>\n",
       "      <td>1324.899414</td>\n",
       "      <td>1357.099609</td>\n",
       "      <td>15599.200195</td>\n",
       "    </tr>\n",
       "    <tr>\n",
       "      <th>2018-01-03 00:00:00+00:00</th>\n",
       "      <td>14978.200195</td>\n",
       "      <td>15572.799805</td>\n",
       "      <td>14844.500000</td>\n",
       "      <td>15201.000000</td>\n",
       "      <td>218.900391</td>\n",
       "      <td>222.799805</td>\n",
       "      <td>17429.500000</td>\n",
       "    </tr>\n",
       "    <tr>\n",
       "      <th>2018-01-04 00:00:00+00:00</th>\n",
       "      <td>15270.700195</td>\n",
       "      <td>15739.700195</td>\n",
       "      <td>14522.200195</td>\n",
       "      <td>15599.200195</td>\n",
       "      <td>398.200195</td>\n",
       "      <td>328.500000</td>\n",
       "      <td>17527.000000</td>\n",
       "    </tr>\n",
       "    <tr>\n",
       "      <th>2018-01-05 00:00:00+00:00</th>\n",
       "      <td>15477.200195</td>\n",
       "      <td>17705.199219</td>\n",
       "      <td>15202.799805</td>\n",
       "      <td>17429.500000</td>\n",
       "      <td>1830.299805</td>\n",
       "      <td>1952.299805</td>\n",
       "      <td>16477.599609</td>\n",
       "    </tr>\n",
       "    <tr>\n",
       "      <th>2018-01-06 00:00:00+00:00</th>\n",
       "      <td>17462.099609</td>\n",
       "      <td>17712.400391</td>\n",
       "      <td>16764.599609</td>\n",
       "      <td>17527.000000</td>\n",
       "      <td>97.500000</td>\n",
       "      <td>64.900391</td>\n",
       "      <td>15170.099609</td>\n",
       "    </tr>\n",
       "    <tr>\n",
       "      <th>2018-01-07 00:00:00+00:00</th>\n",
       "      <td>17527.300781</td>\n",
       "      <td>17579.599609</td>\n",
       "      <td>16087.700195</td>\n",
       "      <td>16477.599609</td>\n",
       "      <td>-1049.400391</td>\n",
       "      <td>-1049.701172</td>\n",
       "      <td>14595.400391</td>\n",
       "    </tr>\n",
       "    <tr>\n",
       "      <th>2018-01-08 00:00:00+00:00</th>\n",
       "      <td>16476.199219</td>\n",
       "      <td>16537.900391</td>\n",
       "      <td>14208.200195</td>\n",
       "      <td>15170.099609</td>\n",
       "      <td>-1307.500000</td>\n",
       "      <td>-1306.099609</td>\n",
       "      <td>14973.299805</td>\n",
       "    </tr>\n",
       "    <tr>\n",
       "      <th>2018-01-09 00:00:00+00:00</th>\n",
       "      <td>15123.700195</td>\n",
       "      <td>15497.500000</td>\n",
       "      <td>14424.000000</td>\n",
       "      <td>14595.400391</td>\n",
       "      <td>-574.699219</td>\n",
       "      <td>-528.299805</td>\n",
       "      <td>13405.799805</td>\n",
       "    </tr>\n",
       "    <tr>\n",
       "      <th>2018-01-10 00:00:00+00:00</th>\n",
       "      <td>14588.500000</td>\n",
       "      <td>14973.299805</td>\n",
       "      <td>13691.200195</td>\n",
       "      <td>14973.299805</td>\n",
       "      <td>377.899414</td>\n",
       "      <td>384.799805</td>\n",
       "      <td>13980.599609</td>\n",
       "    </tr>\n",
       "  </tbody>\n",
       "</table>\n",
       "</div>"
      ],
      "text/plain": [
       "                                   Open          High           Low  \\\n",
       "Date                                                                  \n",
       "2018-01-01 00:00:00+00:00  14112.200195  14112.200195  13154.700195   \n",
       "2018-01-02 00:00:00+00:00  13625.000000  15444.599609  13163.599609   \n",
       "2018-01-03 00:00:00+00:00  14978.200195  15572.799805  14844.500000   \n",
       "2018-01-04 00:00:00+00:00  15270.700195  15739.700195  14522.200195   \n",
       "2018-01-05 00:00:00+00:00  15477.200195  17705.199219  15202.799805   \n",
       "2018-01-06 00:00:00+00:00  17462.099609  17712.400391  16764.599609   \n",
       "2018-01-07 00:00:00+00:00  17527.300781  17579.599609  16087.700195   \n",
       "2018-01-08 00:00:00+00:00  16476.199219  16537.900391  14208.200195   \n",
       "2018-01-09 00:00:00+00:00  15123.700195  15497.500000  14424.000000   \n",
       "2018-01-10 00:00:00+00:00  14588.500000  14973.299805  13691.200195   \n",
       "\n",
       "                                  Close       feat_1       feat_2  \\\n",
       "Date                                                                \n",
       "2018-01-01 00:00:00+00:00  13657.200195          NaN  -455.000000   \n",
       "2018-01-02 00:00:00+00:00  14982.099609  1324.899414  1357.099609   \n",
       "2018-01-03 00:00:00+00:00  15201.000000   218.900391   222.799805   \n",
       "2018-01-04 00:00:00+00:00  15599.200195   398.200195   328.500000   \n",
       "2018-01-05 00:00:00+00:00  17429.500000  1830.299805  1952.299805   \n",
       "2018-01-06 00:00:00+00:00  17527.000000    97.500000    64.900391   \n",
       "2018-01-07 00:00:00+00:00  16477.599609 -1049.400391 -1049.701172   \n",
       "2018-01-08 00:00:00+00:00  15170.099609 -1307.500000 -1306.099609   \n",
       "2018-01-09 00:00:00+00:00  14595.400391  -574.699219  -528.299805   \n",
       "2018-01-10 00:00:00+00:00  14973.299805   377.899414   384.799805   \n",
       "\n",
       "                                 target  \n",
       "Date                                     \n",
       "2018-01-01 00:00:00+00:00  15201.000000  \n",
       "2018-01-02 00:00:00+00:00  15599.200195  \n",
       "2018-01-03 00:00:00+00:00  17429.500000  \n",
       "2018-01-04 00:00:00+00:00  17527.000000  \n",
       "2018-01-05 00:00:00+00:00  16477.599609  \n",
       "2018-01-06 00:00:00+00:00  15170.099609  \n",
       "2018-01-07 00:00:00+00:00  14595.400391  \n",
       "2018-01-08 00:00:00+00:00  14973.299805  \n",
       "2018-01-09 00:00:00+00:00  13405.799805  \n",
       "2018-01-10 00:00:00+00:00  13980.599609  "
      ]
     },
     "execution_count": 17,
     "metadata": {},
     "output_type": "execute_result"
    }
   ],
   "source": [
    "ticker = \"BTC-USD\"\n",
    "asset_id = exchange.getAssetIndex(ticker)\n",
    "path = os.path.join(exchange_path,f\"{ticker}.csv\")  \n",
    "df = pd.read_csv(path)\n",
    "df[\"Date\"] = pd.to_datetime(df[\"Date\"]) \n",
    "df = df.set_index(\"Date\")\n",
    "df = df[['Open', 'High', 'Low', 'Close']]\n",
    "df[\"feat_1\"] = df[\"Close\"] - df[\"Close\"].shift(1)\n",
    "df[\"feat_2\"] = df[\"Close\"] - df[\"Open\"]\n",
    "df[\"target\"] = df[\"Close\"].shift(-2)\n",
    "\n",
    "df.head(10)"
   ]
  },
  {
   "cell_type": "code",
   "execution_count": 6,
   "metadata": {},
   "outputs": [
    {
     "data": {
      "text/plain": [
       "(array([[1.32489941e+03, 1.35709961e+03, 1.00000000e+00],\n",
       "        [2.18900391e+02, 2.22799805e+02, 1.00000000e+00],\n",
       "        [3.98200195e+02, 3.28500000e+02, 1.00000000e+00],\n",
       "        [1.83029980e+03, 1.95229980e+03, 1.00000000e+00],\n",
       "        [9.75000000e+01, 6.49003906e+01, 1.00000000e+00]]),\n",
       " array([15599.20019531, 17429.5       , 17527.        ,     0.        ,\n",
       "            0.        ]),\n",
       " array([ 3.51611216e+00, -5.04197955e+00,  1.77831737e+04]))"
      ]
     },
     "execution_count": 6,
     "metadata": {},
     "output_type": "execute_result"
    }
   ],
   "source": [
    "x = lr_model.getX()\n",
    "y = lr_model.getY()\n",
    "theta = lr_model.getTheta()\n",
    "x,y,theta"
   ]
  },
  {
   "cell_type": "code",
   "execution_count": 7,
   "metadata": {},
   "outputs": [
    {
     "data": {
      "text/plain": [
       "(array([[-1.04940039e+03, -1.04970117e+03,  1.00000000e+00],\n",
       "        [ 2.18900391e+02,  2.22799805e+02,  1.00000000e+00],\n",
       "        [ 3.98200195e+02,  3.28500000e+02,  1.00000000e+00],\n",
       "        [ 1.83029980e+03,  1.95229980e+03,  1.00000000e+00],\n",
       "        [ 9.75000000e+01,  6.49003906e+01,  1.00000000e+00]]),\n",
       " array([15599.20019531, 17429.5       , 17527.        , 16477.59960938,\n",
       "            0.        ]),\n",
       " array([ 1.92627193e+00, -2.34512509e+00,  1.75303317e+04]),\n",
       " array([ 1.92627193e+00, -2.34512509e+00,  1.75303317e+04]))"
      ]
     },
     "execution_count": 7,
     "metadata": {},
     "output_type": "execute_result"
    }
   ],
   "source": [
    "hydra.step()\n",
    "x = lr_model.getX()\n",
    "y = lr_model.getY()\n",
    "theta = lr_model.getTheta()\n",
    "\n",
    "model = sm.OLS(y[1:4], x[1:4,:]).fit()\n",
    "params = np.array(model.params)\n",
    "\n",
    "x,y,theta,params"
   ]
  },
  {
   "cell_type": "code",
   "execution_count": 8,
   "metadata": {},
   "outputs": [
    {
     "data": {
      "text/plain": [
       "(array([[-1.04940039e+03, -1.04970117e+03,  1.00000000e+00],\n",
       "        [-1.30750000e+03, -1.30609961e+03,  1.00000000e+00],\n",
       "        [ 3.98200195e+02,  3.28500000e+02,  1.00000000e+00],\n",
       "        [ 1.83029980e+03,  1.95229980e+03,  1.00000000e+00],\n",
       "        [ 9.75000000e+01,  6.49003906e+01,  1.00000000e+00]]),\n",
       " array([15599.20019531, 17429.5       , 17527.        , 16477.59960938,\n",
       "        15170.09960938]),\n",
       " array([ 1.92627193e+00, -2.34512509e+00,  1.75303317e+04]))"
      ]
     },
     "execution_count": 8,
     "metadata": {},
     "output_type": "execute_result"
    }
   ],
   "source": [
    "hydra.step()\n",
    "x = lr_model.getX()\n",
    "y = lr_model.getY()\n",
    "theta = lr_model.getTheta()\n",
    "x,y,theta"
   ]
  },
  {
   "cell_type": "code",
   "execution_count": 9,
   "metadata": {},
   "outputs": [
    {
     "data": {
      "text/plain": [
       "(array([[-1.04940039e+03, -1.04970117e+03,  1.00000000e+00],\n",
       "        [-1.30750000e+03, -1.30609961e+03,  1.00000000e+00],\n",
       "        [-5.74699219e+02, -5.28299805e+02,  1.00000000e+00],\n",
       "        [ 1.83029980e+03,  1.95229980e+03,  1.00000000e+00],\n",
       "        [ 9.75000000e+01,  6.49003906e+01,  1.00000000e+00]]),\n",
       " array([14595.40039062, 17429.5       , 17527.        , 16477.59960938,\n",
       "        15170.09960938]),\n",
       " array([ 1.92627193e+00, -2.34512509e+00,  1.75303317e+04]))"
      ]
     },
     "execution_count": 9,
     "metadata": {},
     "output_type": "execute_result"
    }
   ],
   "source": [
    "hydra.step()\n",
    "x = lr_model.getX()\n",
    "y = lr_model.getY()\n",
    "theta = lr_model.getTheta()\n",
    "x,y,theta"
   ]
  },
  {
   "cell_type": "code",
   "execution_count": 27,
   "metadata": {},
   "outputs": [
    {
     "data": {
      "text/html": [
       "<div>\n",
       "<style scoped>\n",
       "    .dataframe tbody tr th:only-of-type {\n",
       "        vertical-align: middle;\n",
       "    }\n",
       "\n",
       "    .dataframe tbody tr th {\n",
       "        vertical-align: top;\n",
       "    }\n",
       "\n",
       "    .dataframe thead th {\n",
       "        text-align: right;\n",
       "    }\n",
       "</style>\n",
       "<table border=\"1\" class=\"dataframe\">\n",
       "  <thead>\n",
       "    <tr style=\"text-align: right;\">\n",
       "      <th></th>\n",
       "      <th>Open</th>\n",
       "      <th>High</th>\n",
       "      <th>Low</th>\n",
       "      <th>Close</th>\n",
       "      <th>feat_1</th>\n",
       "      <th>feat_2</th>\n",
       "      <th>target</th>\n",
       "    </tr>\n",
       "    <tr>\n",
       "      <th>Date</th>\n",
       "      <th></th>\n",
       "      <th></th>\n",
       "      <th></th>\n",
       "      <th></th>\n",
       "      <th></th>\n",
       "      <th></th>\n",
       "      <th></th>\n",
       "    </tr>\n",
       "  </thead>\n",
       "  <tbody>\n",
       "    <tr>\n",
       "      <th>2018-01-01 00:00:00+00:00</th>\n",
       "      <td>14112.200195</td>\n",
       "      <td>14112.200195</td>\n",
       "      <td>13154.700195</td>\n",
       "      <td>13657.200195</td>\n",
       "      <td>NaN</td>\n",
       "      <td>-455.000000</td>\n",
       "      <td>15201.000000</td>\n",
       "    </tr>\n",
       "    <tr>\n",
       "      <th>2018-01-02 00:00:00+00:00</th>\n",
       "      <td>13625.000000</td>\n",
       "      <td>15444.599609</td>\n",
       "      <td>13163.599609</td>\n",
       "      <td>14982.099609</td>\n",
       "      <td>1324.899414</td>\n",
       "      <td>1357.099609</td>\n",
       "      <td>15599.200195</td>\n",
       "    </tr>\n",
       "    <tr>\n",
       "      <th>2018-01-03 00:00:00+00:00</th>\n",
       "      <td>14978.200195</td>\n",
       "      <td>15572.799805</td>\n",
       "      <td>14844.500000</td>\n",
       "      <td>15201.000000</td>\n",
       "      <td>218.900391</td>\n",
       "      <td>222.799805</td>\n",
       "      <td>17429.500000</td>\n",
       "    </tr>\n",
       "    <tr>\n",
       "      <th>2018-01-04 00:00:00+00:00</th>\n",
       "      <td>15270.700195</td>\n",
       "      <td>15739.700195</td>\n",
       "      <td>14522.200195</td>\n",
       "      <td>15599.200195</td>\n",
       "      <td>398.200195</td>\n",
       "      <td>328.500000</td>\n",
       "      <td>17527.000000</td>\n",
       "    </tr>\n",
       "    <tr>\n",
       "      <th>2018-01-05 00:00:00+00:00</th>\n",
       "      <td>15477.200195</td>\n",
       "      <td>17705.199219</td>\n",
       "      <td>15202.799805</td>\n",
       "      <td>17429.500000</td>\n",
       "      <td>1830.299805</td>\n",
       "      <td>1952.299805</td>\n",
       "      <td>16477.599609</td>\n",
       "    </tr>\n",
       "    <tr>\n",
       "      <th>2018-01-06 00:00:00+00:00</th>\n",
       "      <td>17462.099609</td>\n",
       "      <td>17712.400391</td>\n",
       "      <td>16764.599609</td>\n",
       "      <td>17527.000000</td>\n",
       "      <td>97.500000</td>\n",
       "      <td>64.900391</td>\n",
       "      <td>15170.099609</td>\n",
       "    </tr>\n",
       "    <tr>\n",
       "      <th>2018-01-07 00:00:00+00:00</th>\n",
       "      <td>17527.300781</td>\n",
       "      <td>17579.599609</td>\n",
       "      <td>16087.700195</td>\n",
       "      <td>16477.599609</td>\n",
       "      <td>-1049.400391</td>\n",
       "      <td>-1049.701172</td>\n",
       "      <td>14595.400391</td>\n",
       "    </tr>\n",
       "    <tr>\n",
       "      <th>2018-01-08 00:00:00+00:00</th>\n",
       "      <td>16476.199219</td>\n",
       "      <td>16537.900391</td>\n",
       "      <td>14208.200195</td>\n",
       "      <td>15170.099609</td>\n",
       "      <td>-1307.500000</td>\n",
       "      <td>-1306.099609</td>\n",
       "      <td>14973.299805</td>\n",
       "    </tr>\n",
       "    <tr>\n",
       "      <th>2018-01-09 00:00:00+00:00</th>\n",
       "      <td>15123.700195</td>\n",
       "      <td>15497.500000</td>\n",
       "      <td>14424.000000</td>\n",
       "      <td>14595.400391</td>\n",
       "      <td>-574.699219</td>\n",
       "      <td>-528.299805</td>\n",
       "      <td>13405.799805</td>\n",
       "    </tr>\n",
       "    <tr>\n",
       "      <th>2018-01-10 00:00:00+00:00</th>\n",
       "      <td>14588.500000</td>\n",
       "      <td>14973.299805</td>\n",
       "      <td>13691.200195</td>\n",
       "      <td>14973.299805</td>\n",
       "      <td>377.899414</td>\n",
       "      <td>384.799805</td>\n",
       "      <td>13980.599609</td>\n",
       "    </tr>\n",
       "  </tbody>\n",
       "</table>\n",
       "</div>"
      ],
      "text/plain": [
       "                                   Open          High           Low  \\\n",
       "Date                                                                  \n",
       "2018-01-01 00:00:00+00:00  14112.200195  14112.200195  13154.700195   \n",
       "2018-01-02 00:00:00+00:00  13625.000000  15444.599609  13163.599609   \n",
       "2018-01-03 00:00:00+00:00  14978.200195  15572.799805  14844.500000   \n",
       "2018-01-04 00:00:00+00:00  15270.700195  15739.700195  14522.200195   \n",
       "2018-01-05 00:00:00+00:00  15477.200195  17705.199219  15202.799805   \n",
       "2018-01-06 00:00:00+00:00  17462.099609  17712.400391  16764.599609   \n",
       "2018-01-07 00:00:00+00:00  17527.300781  17579.599609  16087.700195   \n",
       "2018-01-08 00:00:00+00:00  16476.199219  16537.900391  14208.200195   \n",
       "2018-01-09 00:00:00+00:00  15123.700195  15497.500000  14424.000000   \n",
       "2018-01-10 00:00:00+00:00  14588.500000  14973.299805  13691.200195   \n",
       "\n",
       "                                  Close       feat_1       feat_2  \\\n",
       "Date                                                                \n",
       "2018-01-01 00:00:00+00:00  13657.200195          NaN  -455.000000   \n",
       "2018-01-02 00:00:00+00:00  14982.099609  1324.899414  1357.099609   \n",
       "2018-01-03 00:00:00+00:00  15201.000000   218.900391   222.799805   \n",
       "2018-01-04 00:00:00+00:00  15599.200195   398.200195   328.500000   \n",
       "2018-01-05 00:00:00+00:00  17429.500000  1830.299805  1952.299805   \n",
       "2018-01-06 00:00:00+00:00  17527.000000    97.500000    64.900391   \n",
       "2018-01-07 00:00:00+00:00  16477.599609 -1049.400391 -1049.701172   \n",
       "2018-01-08 00:00:00+00:00  15170.099609 -1307.500000 -1306.099609   \n",
       "2018-01-09 00:00:00+00:00  14595.400391  -574.699219  -528.299805   \n",
       "2018-01-10 00:00:00+00:00  14973.299805   377.899414   384.799805   \n",
       "\n",
       "                                 target  \n",
       "Date                                     \n",
       "2018-01-01 00:00:00+00:00  15201.000000  \n",
       "2018-01-02 00:00:00+00:00  15599.200195  \n",
       "2018-01-03 00:00:00+00:00  17429.500000  \n",
       "2018-01-04 00:00:00+00:00  17527.000000  \n",
       "2018-01-05 00:00:00+00:00  16477.599609  \n",
       "2018-01-06 00:00:00+00:00  15170.099609  \n",
       "2018-01-07 00:00:00+00:00  14595.400391  \n",
       "2018-01-08 00:00:00+00:00  14973.299805  \n",
       "2018-01-09 00:00:00+00:00  13405.799805  \n",
       "2018-01-10 00:00:00+00:00  13980.599609  "
      ]
     },
     "execution_count": 27,
     "metadata": {},
     "output_type": "execute_result"
    }
   ],
   "source": [
    "#model = sm.OLS(y[1:4], x[1:4,:]).fit()\n",
    "#print(model.params)\n",
    "df.head(10)"
   ]
  },
  {
   "cell_type": "code",
   "execution_count": 11,
   "metadata": {},
   "outputs": [
    {
     "data": {
      "text/plain": [
       "(array([[-1.04940039e+03, -1.04970117e+03,  1.00000000e+00],\n",
       "        [-1.30750000e+03, -1.30609961e+03,  1.00000000e+00],\n",
       "        [-5.74699219e+02, -5.28299805e+02,  1.00000000e+00],\n",
       "        [ 3.77899414e+02,  3.84799805e+02,  1.00000000e+00],\n",
       "        [ 9.75000000e+01,  6.49003906e+01,  1.00000000e+00]]),\n",
       " array([14595.40039062, 14973.29980469, 17527.        , 16477.59960938,\n",
       "        15170.09960938]),\n",
       " array([  -23.4274429 ,    24.62193088, 15856.30236006]))"
      ]
     },
     "execution_count": 11,
     "metadata": {},
     "output_type": "execute_result"
    }
   ],
   "source": [
    "hydra.step()\n",
    "x = lr_model.getX()\n",
    "y = lr_model.getY()\n",
    "theta = lr_model.getTheta()\n",
    "x,y,theta"
   ]
  },
  {
   "cell_type": "code",
   "execution_count": 25,
   "metadata": {},
   "outputs": [
    {
     "data": {
      "text/plain": [
       "array([[ 9.75000000e+01,  6.49003906e+01,  1.00000000e+00],\n",
       "       [-1.04940039e+03, -1.04970117e+03,  1.00000000e+00],\n",
       "       [-1.30750000e+03, -1.30609961e+03,  1.00000000e+00]])"
      ]
     },
     "execution_count": 25,
     "metadata": {},
     "output_type": "execute_result"
    }
   ],
   "source": [
    "x_pandas = df[[\"feat_1\",\"feat_2\"]].iloc[5:8].values\n",
    "x_pandas = sm.add_constant(x_pandas)\n",
    "x_pandas = x_pandas[:, [2, 1, 0]]\n",
    "y_pandas = df[\"target\"].iloc[5:8].values\n",
    "x_pandas"
   ]
  },
  {
   "cell_type": "code",
   "execution_count": 26,
   "metadata": {},
   "outputs": [
    {
     "data": {
      "text/plain": [
       "array([   89.04273578,   -91.10739896, 12401.33865168])"
      ]
     },
     "execution_count": 26,
     "metadata": {},
     "output_type": "execute_result"
    }
   ],
   "source": [
    "model = sm.OLS(y_pandas, sm.add_constant(x_pandas)).fit()\n",
    "params = np.array(model.params)\n",
    "params"
   ]
  },
  {
   "cell_type": "code",
   "execution_count": 16,
   "metadata": {},
   "outputs": [
    {
     "data": {
      "text/plain": [
       "(array([[   97.5       ,    64.90039062],\n",
       "        [-1049.40039062, -1049.70117188],\n",
       "        [-1307.5       , -1306.09960938]]),\n",
       " array([15170.09960938, 14595.40039062, 14973.29980469]))"
      ]
     },
     "execution_count": 16,
     "metadata": {},
     "output_type": "execute_result"
    }
   ],
   "source": [
    "\n",
    "x_pandas, y_pandas"
   ]
  },
  {
   "cell_type": "code",
   "execution_count": null,
   "metadata": {},
   "outputs": [],
   "source": []
  },
  {
   "cell_type": "code",
   "execution_count": 14,
   "metadata": {},
   "outputs": [
    {
     "data": {
      "text/plain": [
       "'\\nticker = \"BTC-USD\"\\nasset_id = exchange.getAssetIndex(ticker)\\npath = os.path.join(exchange_path,f\"{ticker}.csv\")  \\ndf = pd.read_csv(path)\\ndf[\"Date\"] = pd.to_datetime(df[\"Date\"]) \\ndf = df.set_index(\"Date\")\\n\\ndef ts_argmax(df, window=10):\\n    return df.rolling(window).apply(np.argmax).add(1)\\n\\nbtc_idx = exchange.getAssetIndex(\"BTC-USD\")\\ndf[\"close_arg_max_atlas\"] = close_arg_max.cache()[btc_idx].T\\ndf[\"close_max_atlas\"] = close_max.cache()[btc_idx].T\\ndf[\"close_max_pd\"] = df[\"Close\"].diff().rolling(n).max()\\ndf[\"close_arg_max_pd\"] = ts_argmax(df[\"Close\"].diff(), n)\\ndf[\"change\"] = df[\"Close\"].diff()\\ndf = df[[\"Close\",\"change\", \"close_max_atlas\", \"close_max_pd\", \"close_arg_max_pd\", \"close_arg_max_atlas\"]]\\ndf.head(30)\\n'"
      ]
     },
     "execution_count": 14,
     "metadata": {},
     "output_type": "execute_result"
    }
   ],
   "source": [
    "\"\"\"\n",
    "ticker = \"BTC-USD\"\n",
    "asset_id = exchange.getAssetIndex(ticker)\n",
    "path = os.path.join(exchange_path,f\"{ticker}.csv\")  \n",
    "df = pd.read_csv(path)\n",
    "df[\"Date\"] = pd.to_datetime(df[\"Date\"]) \n",
    "df = df.set_index(\"Date\")\n",
    "\n",
    "def ts_argmax(df, window=10):\n",
    "    return df.rolling(window).apply(np.argmax).add(1)\n",
    "\n",
    "btc_idx = exchange.getAssetIndex(\"BTC-USD\")\n",
    "df[\"close_arg_max_atlas\"] = close_arg_max.cache()[btc_idx].T\n",
    "df[\"close_max_atlas\"] = close_max.cache()[btc_idx].T\n",
    "df[\"close_max_pd\"] = df[\"Close\"].diff().rolling(n).max()\n",
    "df[\"close_arg_max_pd\"] = ts_argmax(df[\"Close\"].diff(), n)\n",
    "df[\"change\"] = df[\"Close\"].diff()\n",
    "df = df[[\"Close\",\"change\", \"close_max_atlas\", \"close_max_pd\", \"close_arg_max_pd\", \"close_arg_max_atlas\"]]\n",
    "df.head(30)\n",
    "\"\"\""
   ]
  }
 ],
 "metadata": {
  "kernelspec": {
   "display_name": "Python 3",
   "language": "python",
   "name": "python3"
  },
  "language_info": {
   "codemirror_mode": {
    "name": "ipython",
    "version": 3
   },
   "file_extension": ".py",
   "mimetype": "text/x-python",
   "name": "python",
   "nbconvert_exporter": "python",
   "pygments_lexer": "ipython3",
   "version": "3.12.0"
  }
 },
 "nbformat": 4,
 "nbformat_minor": 2
}
