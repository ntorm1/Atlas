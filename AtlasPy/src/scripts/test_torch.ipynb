{
 "cells": [
  {
   "cell_type": "code",
   "execution_count": 2,
   "metadata": {},
   "outputs": [],
   "source": [
    "import os\n",
    "import sys\n",
    "import torch\n",
    "import torch.nn as nn\n",
    "\n",
    "torch_path = \"C:/libtorch/lib\"\n",
    "os.add_dll_directory(torch_path)\n",
    "\n",
    "atlas_path = \"C:/Users/natha/OneDrive/Desktop/C++/Atlas/x64/Release\"\n",
    "sys.path.append(atlas_path)\n",
    "\n",
    "\n",
    "from AtlasPy.core import Hydra, Portfolio, Strategy\n",
    "from AtlasPy.ast import *\n",
    "from AtlasPy.model import *"
   ]
  },
  {
   "cell_type": "code",
   "execution_count": 3,
   "metadata": {},
   "outputs": [],
   "source": [
    "exchange_path = \"C:/Users/natha/OneDrive/Desktop/C++/Atlas/AtlasPy/src/exchangeVBT\"\n",
    "strategy_id = \"test_strategy\"\n",
    "exchange_id = \"test_exchange\"\n",
    "portfolio_id = \"test_portfolio\"\n",
    "\n",
    "hydra = Hydra()\n",
    "intial_cash = 100.0\n",
    "exchange = hydra.addExchange(exchange_id, exchange_path, \"\")\n",
    "portfolio = hydra.addPortfolio(portfolio_id, exchange, intial_cash)\n",
    "hydra.build()"
   ]
  },
  {
   "cell_type": "code",
   "execution_count": 4,
   "metadata": {},
   "outputs": [],
   "source": [
    "class LinearRegressionModel(nn.Module):\n",
    "    def __init__(self, input_size):\n",
    "        super(LinearRegressionModel, self).__init__()\n",
    "        self.linear = nn.Linear(input_size, 1)\n",
    "\n",
    "    def forward(self, x1, x2):\n",
    "        return self.linear(x1) + self.linear(x2)\n",
    "\n",
    "my_module = LinearRegressionModel(3)\n",
    "sm = torch.jit.script(my_module)\n",
    "sm.save(\"linear_regression.pt\")"
   ]
  },
  {
   "cell_type": "code",
   "execution_count": 5,
   "metadata": {},
   "outputs": [],
   "source": [
    "n = 2\n",
    "close = AssetReadNode.make(\"Close\", 0, exchange)\n",
    "open = AssetReadNode.make(\"Open\", 0, exchange)\n",
    "prev_close = AssetReadNode.make(\"Close\", -1, exchange)\n",
    "torch_script_file = r'C:\\Users\\natha\\OneDrive\\Desktop\\C++\\Atlas\\AtlasPy\\src\\scripts\\linear_regression.pt'\n",
    "\n",
    "feat1 = AssetOpNode.make(\n",
    "    close,\n",
    "    prev_close,\n",
    "    AssetOpType.SUBTRACT\n",
    ")\n",
    "feat2 = AssetOpNode.make(\n",
    "    close,\n",
    "    open,\n",
    "    AssetOpType.SUBTRACT\n",
    ")\n",
    "target = ModelTarget(\n",
    "    close,\n",
    "    ModelTargetType.ABSOLUTE,\n",
    "    2\n",
    ")\n",
    "config = ModelConfig(\n",
    "    training_window = 5,\n",
    "    walk_forward_window = 3,\n",
    "    model_type = ModelType.TORCH,\n",
    "    exchange = exchange,\n",
    ")\n",
    "torch_config = TorchModelConfig(\n",
    "    config,\n",
    "    torch_script_file = torch_script_file\n",
    ")\n",
    "torch_model = TorchModel(\n",
    "    \"torch_model\",\n",
    "    [feat1, feat2],\n",
    "    target,\n",
    "    torch_config\n",
    ")\n",
    "exchange.registerModel(torch_model)"
   ]
  },
  {
   "cell_type": "code",
   "execution_count": null,
   "metadata": {},
   "outputs": [
    {
     "ename": "",
     "evalue": "",
     "output_type": "error",
     "traceback": [
      "\u001b[1;31mThe Kernel crashed while executing code in the current cell or a previous cell. \n",
      "\u001b[1;31mPlease review the code in the cell(s) to identify a possible cause of the failure. \n",
      "\u001b[1;31mClick <a href='https://aka.ms/vscodeJupyterKernelCrash'>here</a> for more info. \n",
      "\u001b[1;31mView Jupyter <a href='command:jupyter.viewOutput'>log</a> for further details."
     ]
    }
   ],
   "source": [
    "for i in range(6):\n",
    "    hydra.step()"
   ]
  },
  {
   "cell_type": "code",
   "execution_count": null,
   "metadata": {},
   "outputs": [],
   "source": []
  }
 ],
 "metadata": {
  "kernelspec": {
   "display_name": "Python 3",
   "language": "python",
   "name": "python3"
  },
  "language_info": {
   "codemirror_mode": {
    "name": "ipython",
    "version": 3
   },
   "file_extension": ".py",
   "mimetype": "text/x-python",
   "name": "python",
   "nbconvert_exporter": "python",
   "pygments_lexer": "ipython3",
   "version": "3.12.0"
  }
 },
 "nbformat": 4,
 "nbformat_minor": 2
}
