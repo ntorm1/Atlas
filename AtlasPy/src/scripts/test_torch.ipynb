{
 "cells": [
  {
   "cell_type": "code",
   "execution_count": 1,
   "metadata": {},
   "outputs": [],
   "source": [
    "import os\n",
    "import sys\n",
    "import torch\n",
    "import torch.nn as nn\n",
    "\n",
    "torch_path = \"C:/libtorch_Debug/lib\"\n",
    "os.add_dll_directory(torch_path)\n",
    "\n",
    "atlas_path = \"C:/Users/natha/OneDrive/Desktop/C++/Atlas/x64/Debug\"\n",
    "sys.path.append(atlas_path)\n",
    "\n",
    "\n",
    "from AtlasPy.core import Hydra, Portfolio, Strategy\n",
    "from AtlasPy.ast import *\n",
    "from AtlasPy.model import *"
   ]
  },
  {
   "cell_type": "code",
   "execution_count": 2,
   "metadata": {},
   "outputs": [],
   "source": [
    "exchange_path = \"C:/Users/natha/OneDrive/Desktop/C++/Atlas/AtlasPy/src/exchangeVBT\"\n",
    "strategy_id = \"test_strategy\"\n",
    "exchange_id = \"test_exchange\"\n",
    "portfolio_id = \"test_portfolio\"\n",
    "\n",
    "hydra = Hydra()\n",
    "intial_cash = 100.0\n",
    "exchange = hydra.addExchange(exchange_id, exchange_path, \"\")\n",
    "portfolio = hydra.addPortfolio(portfolio_id, exchange, intial_cash)\n",
    "hydra.build()"
   ]
  },
  {
   "cell_type": "code",
   "execution_count": 6,
   "metadata": {},
   "outputs": [],
   "source": [
    "class LinearRegressionModel(nn.Module):\n",
    "    def __init__(self, input_size):\n",
    "        super(LinearRegressionModel, self).__init__()\n",
    "        self.linear = nn.Linear(input_size, 1)\n",
    "\n",
    "    def forward(self, x1, x2):\n",
    "        return self.linear(x1) + self.linear(x2)\n",
    "\n",
    "my_module = LinearRegressionModel(2)\n",
    "sm = torch.jit.script(my_module)\n",
    "sm.save(\"linear_regression.pt\")"
   ]
  },
  {
   "cell_type": "code",
   "execution_count": 4,
   "metadata": {},
   "outputs": [
    {
     "ename": "RuntimeError",
     "evalue": "Error loading the torch script file: open file failed because of errno 22 on fopen: Invalid argument, file path: \nException raised from RAIIFile at ..\\caffe2\\serialize\\file_adapter.cc:30 (most recent call first):\n00007FFC05B038F200007FFC05B03890 c10.dll!c10::Error::Error [<unknown file> @ <unknown line number>]\n00007FFC05B02CFA00007FFC05B02CA0 c10.dll!c10::detail::torchCheckFail [<unknown file> @ <unknown line number>]\n00007FFBBB77389F00007FFBBB7737A0 torch_cpu.dll!caffe2::serialize::FileAdapter::FileAdapter [<unknown file> @ <unknown line number>]\n00007FFBBB76CA0800007FFBBB76C970 torch_cpu.dll!caffe2::serialize::PyTorchStreamReader::PyTorchStreamReader [<unknown file> @ <unknown line number>]\n00007FFBBC8547E400007FFBBC854660 torch_cpu.dll!torch::jit::import_ir_module [<unknown file> @ <unknown line number>]\n00007FFBBC854B8F00007FFBBC854AB0 torch_cpu.dll!torch::jit::import_ir_module [<unknown file> @ <unknown line number>]\n00007FFBBC855B3F00007FFBBC855AD0 torch_cpu.dll!torch::jit::load [<unknown file> @ <unknown line number>]\n00007FFBE5D85C3C00007FFBE5D85990 Atlas.dll!Atlas::Model::TorchModel::TorchModel [C:\\Users\\natha\\OneDrive\\Desktop\\C++\\Atlas\\modules\\model\\TorchModel.cpp @ 51]\n00007FFBEC3DD02300007FFBEC3DCEC0 AtlasPy.pyd!pybind11::detail::initimpl::construct_or_initialize<Atlas::Model::TorchModel,std::basic_string<char,std::char_traits<char>,std::allocator<char> >,std::vector<std::shared_ptr<Atlas::AST::StrategyBufferOpNode>,std::allocator<std::shared_ptr<Atlas::AST::StrategyBufferOpNode> > >,std::shared_ptr<Atlas::Model::ModelTarget>,std::shared_ptr<Atlas::Model::TorchModelConfig const >,0> [C:\\dev\\vcpkg\\installed\\x64-windows\\include\\pybind11\\detail\\init.h @ 76]\n00007FFBEC3FDC8F00007FFBEC3FDC40 AtlasPy.pyd!`pybind11::detail::initimpl::constructor<std::basic_string<char,std::char_traits<char>,std::allocator<char> >,std::vector<std::shared_ptr<Atlas::AST::StrategyBufferOpNode>,std::allocator<std::shared_ptr<Atlas::AST::StrategyBufferOpNode> > >,std::shared_ptr<Atlas::Model::ModelTarget>,std::shared_ptr<Atlas::Model::TorchModelConfig const > >::execute<pybind11::class_<Atlas::Model::TorchModel,Atlas::Model::ModelBase,std::shared_ptr<Atlas::Model::TorchModel> >,pybind11::arg,pybind11::arg,pybind11::arg,pybind11::arg,0>'::`2'::<lambda_1>::operator() [C:\\dev\\vcpkg\\installed\\x64-windows\\include\\pybind11\\detail\\init.h @ 206]\n00007FFBEC3DA33100007FFBEC3DA150 AtlasPy.pyd!pybind11::detail::argument_loader<pybind11::detail::value_and_holder &,std::basic_string<char,std::char_traits<char>,std::allocator<char> >,std::vector<std::shared_ptr<Atlas::AST::StrategyBufferOpNode>,std::allocator<std::shared_ptr<Atlas::AST::StrategyBufferOpNode> > >,std::shared_ptr<Atlas::Model::ModelTarget>,std::shared_ptr<Atlas::Model::TorchModelConfig const > >::call_impl<void,`pybind11::detail::initimpl::constructor<std::basic_string<char,std::char_traits<char>,std::allocator<char> >,std::vector<std::shared_ptr<Atlas::AST::StrategyBufferOpNode>,std::allocator<std::shared_ptr<Atlas::AST::StrategyBufferOpNode> > >,std::shared_ptr<Atlas::Model::ModelTarget>,std::shared_ptr<Atlas::Model::TorchModelConfig const > >::execute<pybind11::class_<Atlas::Model::TorchModel,Atlas::Model::ModelBase,std::shared_ptr<Atlas::Model::TorchModel> >,pybind11::arg,pybind11::arg,pybind11::arg,pybind11::arg,0>'::`2'::<lambda_1> &,0,1,2,3,4,pybind11::detail::void_type> [C:\\dev\\vcpkg\\installed\\x64-windows\\include\\pybind11\\cast.h @ 1481]\n00007FFBEC3D84F100007FFBEC3D8480 AtlasPy.pyd!pybind11::detail::argument_loader<pybind11::detail::value_and_holder &,std::basic_string<char,std::char_traits<char>,std::allocator<char> >,std::vector<std::shared_ptr<Atlas::AST::StrategyBufferOpNode>,std::allocator<std::shared_ptr<Atlas::AST::StrategyBufferOpNode> > >,std::shared_ptr<Atlas::Model::ModelTarget>,std::shared_ptr<Atlas::Model::TorchModelConfig const > >::call<void,pybind11::detail::void_type,`pybind11::detail::initimpl::constructor<std::basic_string<char,std::char_traits<char>,std::allocator<char> >,std::vector<std::shared_ptr<Atlas::AST::StrategyBufferOpNode>,std::allocator<std::shared_ptr<Atlas::AST::StrategyBufferOpNode> > >,std::shared_ptr<Atlas::Model::ModelTarget>,std::shared_ptr<Atlas::Model::TorchModelConfig const > >::execute<pybind11::class_<Atlas::Model::TorchModel,Atlas::Model::ModelBase,std::shared_ptr<Atlas::Model::TorchModel> >,pybind11::arg,pybind11::arg,pybind11::arg,pybind11::arg,0>'::`2'::<lambda_1> &> [C:\\dev\\vcpkg\\installed\\x64-windows\\include\\pybind11\\cast.h @ 1456]\n00007FFBEC40427000007FFBEC404080 AtlasPy.pyd!`pybind11::cpp_function::initialize<`pybind11::detail::initimpl::constructor<std::basic_string<char,std::char_traits<char>,std::allocator<char> >,std::vector<std::shared_ptr<Atlas::AST::StrategyBufferOpNode>,std::allocator<std::shared_ptr<Atlas::AST::StrategyBufferOpNode> > >,std::shared_ptr<Atlas::Model::ModelTarget>,std::shared_ptr<Atlas::Model::TorchModelConfig const > >::execute<pybind11::class_<Atlas::Model::TorchModel,Atlas::Model::ModelBase,std::shared_ptr<Atlas::Model::TorchModel> >,pybind11::arg,pybind11::arg,pybind11::arg,pybind11::arg,0>'::`2'::<lambda_1>,void,pybind11::detail::value_and_holder &,std::basic_string<char,std::char_traits<char>,std::allocator<char> >,std::vector<std::shared_ptr<Atlas::AST::StrategyBufferOpNode>,std::allocator<std::shared_ptr<Atlas::AST::StrategyBufferOpNode> > >,std::shared_ptr<Atlas::Model::ModelTarget>,std::shared_ptr<Atlas::Model::TorchModelConfig const >,pybind11::name,pybind11::is_method,pybind11::sibling,pybind11::detail::is_new_style_constructor,pybind11::arg,pybind11::arg,pybind11::arg,pybind11::arg>'::`2'::<lambda_3>::operator() [C:\\dev\\vcpkg\\installed\\x64-windows\\include\\pybind11\\pybind11.h @ 253]\n00007FFBEC3CD7FE00007FFBEC3CD7C0 AtlasPy.pyd!`pybind11::cpp_function::initialize<`pybind11::detail::initimpl::constructor<std::basic_string<char,std::char_traits<char>,std::allocator<char> >,std::vector<std::shared_ptr<Atlas::AST::StrategyBufferOpNode>,std::allocator<std::shared_ptr<Atlas::AST::StrategyBufferOpNode> > >,std::shared_ptr<Atlas::Model::ModelTarget>,std::shared_ptr<Atlas::Model::TorchModelConfig const > >::execute<pybind11::class_<Atlas::Model::TorchModel,Atlas::Model::ModelBase,std::shared_ptr<Atlas::Model::TorchModel> >,pybind11::arg,pybind11::arg,pybind11::arg,pybind11::arg,0>'::`2'::<lambda_1>,void,pybind11::detail::value_and_holder &,std::basic_string<char,std::char_traits<char>,std::allocator<char> >,std::vector<std::shared_ptr<Atlas::AST::StrategyBufferOpNode>,std::allocator<std::shared_ptr<Atlas::AST::StrategyBufferOpNode> > >,std::shared_ptr<Atlas::Model::ModelTarget>,std::shared_ptr<Atlas::Model::TorchModelConfig const >,pybind11::name,pybind11::is_method,pybind11::sibling,pybind11::detail::is_new_style_constructor,pybind11::arg,pybind11::arg,pybind11::arg,pybind11::arg>'::`2'::<lambda_3>::<lambda_invoker_cdecl> [C:\\dev\\vcpkg\\installed\\x64-windows\\include\\pybind11\\pybind11.h @ 263]\n00007FFBEC367FA700007FFBEC366D80 AtlasPy.pyd!pybind11::cpp_function::dispatcher [C:\\dev\\vcpkg\\installed\\x64-windows\\include\\pybind11\\pybind11.h @ 946]\n00007FFC0806A8C400007FFC0806A74C python312.dll!PyObject_VectorcallMethod [<unknown file> @ <unknown line number>]\n00007FFC080CF05B00007FFC080CEFC0 python312.dll!PyObject_MakeTpCall [<unknown file> @ <unknown line number>]\n00007FFC081DFD4D00007FFC081C1908 python312.dll!PyThread_tss_is_created [<unknown file> @ <unknown line number>]\n00007FFC0808827900007FFC08088154 python312.dll!PyObject_Call [<unknown file> @ <unknown line number>]\n00007FFC08064F6300007FFC08064EC8 python312.dll!PyObject_Call [<unknown file> @ <unknown line number>]\n00007FFC0806BA6F00007FFC0806A74C python312.dll!PyObject_VectorcallMethod [<unknown file> @ <unknown line number>]\n00007FFC0806AC1C00007FFC0806A74C python312.dll!PyObject_VectorcallMethod [<unknown file> @ <unknown line number>]\n00007FFBEC3A306300007FFBEC3A2FE0 AtlasPy.pyd!pybind11_meta_call [C:\\dev\\vcpkg\\installed\\x64-windows\\include\\pybind11\\detail\\class.h @ 187]\n00007FFC0804B71A00007FFC0804AB90 python312.dll!PyObject_Vectorcall [<unknown file> @ <unknown line number>]\n00007FFC0804ABC500007FFC0804AB90 python312.dll!PyObject_Vectorcall [<unknown file> @ <unknown line number>]\n00007FFC0804CA9700007FFC0804C330 python312.dll!PyEval_EvalFrameDefault [<unknown file> @ <unknown line number>]\n00007FFC08064A2200007FFC08064800 python312.dll!PyMapping_Check [<unknown file> @ <unknown line number>]\n00007FFC0806408100007FFC08063FD4 python312.dll!PyEval_EvalCode [<unknown file> @ <unknown line number>]\n00007FFC0806312C00007FFC08062DA8 python312.dll!PyDict_GetItemStringWithError [<unknown file> @ <unknown line number>]\n00007FFC08062FD000007FFC08062DA8 python312.dll!PyDict_GetItemStringWithError [<unknown file> @ <unknown line number>]\n00007FFC0804FFD700007FFC0804C330 python312.dll!PyEval_EvalFrameDefault [<unknown file> @ <unknown line number>]\n00007FFC080E301500007FFC080E2E88 python312.dll!PyErr_SetNone [<unknown file> @ <unknown line number>]\n00007FFC080E2ED300007FFC080E2E88 python312.dll!PyErr_SetNone [<unknown file> @ <unknown line number>]\n00007FFC08050E4A00007FFC0804C330 python312.dll!PyEval_EvalFrameDefault [<unknown file> @ <unknown line number>]\n00007FFC0807B38A00007FFC0807B210 python312.dll!PyFunction_Vectorcall [<unknown file> @ <unknown line number>]\n00007FFC0807D03100007FFC0807BE50 python312.dll!PyDict_GetItemWithError [<unknown file> @ <unknown line number>]\n00007FFC080882CF00007FFC08088154 python312.dll!PyObject_Call [<unknown file> @ <unknown line number>]\n00007FFC080881C300007FFC08088154 python312.dll!PyObject_Call [<unknown file> @ <unknown line number>]\n00007FFC08051A9B00007FFC0804C330 python312.dll!PyEval_EvalFrameDefault [<unknown file> @ <unknown line number>]\n00007FFC080E301500007FFC080E2E88 python312.dll!PyErr_SetNone [<unknown file> @ <unknown line number>]\n00007FFC0826095D00007FFC08260934 python312.dll!PyGen_NewWithQualName [<unknown file> @ <unknown line number>]\n00007FFC0825721100007FFC082571DC python312.dll!PyIter_Send [<unknown file> @ <unknown line number>]\n00007FFC6CFB713000007FFC6CFB1860 _asyncio.pyd!PyInit__asyncio [<unknown file> @ <unknown line number>]\n00007FFC6CFB6ABE00007FFC6CFB1860 _asyncio.pyd!PyInit__asyncio [<unknown file> @ <unknown line number>]\n00007FFC6CFB73E600007FFC6CFB1860 _asyncio.pyd!PyInit__asyncio [<unknown file> @ <unknown line number>]\n00007FFC0807EA0700007FFC0807D34C python312.dll!PyDict_SetItem [<unknown file> @ <unknown line number>]\n00007FFC0828424500007FFC082841F4 python312.dll!PyContext_NewHamtForTests [<unknown file> @ <unknown line number>]\n00007FFC0828456300007FFC082841F4 python312.dll!PyContext_NewHamtForTests [<unknown file> @ <unknown line number>]\n00007FFC0802874E00007FFC08026E30 python312.dll!PyUnicode_RichCompare [<unknown file> @ <unknown line number>]\n00007FFC0808827900007FFC08088154 python312.dll!PyObject_Call [<unknown file> @ <unknown line number>]\n00007FFC080881C300007FFC08088154 python312.dll!PyObject_Call [<unknown file> @ <unknown line number>]\n00007FFC08051A9B00007FFC0804C330 python312.dll!PyEval_EvalFrameDefault [<unknown file> @ <unknown line number>]\n00007FFC08064A2200007FFC08064800 python312.dll!PyMapping_Check [<unknown file> @ <unknown line number>]\n00007FFC0806408100007FFC08063FD4 python312.dll!PyEval_EvalCode [<unknown file> @ <unknown line number>]\n00007FFC0806312C00007FFC08062DA8 python312.dll!PyDict_GetItemStringWithError [<unknown file> @ <unknown line number>]\n00007FFC08062FD000007FFC08062DA8 python312.dll!PyDict_GetItemStringWithError [<unknown file> @ <unknown line number>]\n00007FFC0802874E00007FFC08026E30 python312.dll!PyUnicode_RichCompare [<unknown file> @ <unknown line number>]\n00007FFC0804AC7600007FFC0804AB90 python312.dll!PyObject_Vectorcall [<unknown file> @ <unknown line number>]\n00007FFC0804ABC500007FFC0804AB90 python312.dll!PyObject_Vectorcall [<unknown file> @ <unknown line number>]\n00007FFC0804CA9700007FFC0804C330 python312.dll!PyEval_EvalFrameDefault [<unknown file> @ <unknown line number>]\n00007FFC0807B38A00007FFC0807B210 python312.dll!PyFunction_Vectorcall [<unknown file> @ <unknown line number>]\n00007FFC0808827900007FFC08088154 python312.dll!PyObject_Call [<unknown file> @ <unknown line number>]\n00007FFC080881C300007FFC08088154 python312.dll!PyObject_Call [<unknown file> @ <unknown line number>]\n00007FFC080B7FF200007FFC080B7E34 python312.dll!PyArg_Parse [<unknown file> @ <unknown line number>]\n",
     "output_type": "error",
     "traceback": [
      "\u001b[1;31m---------------------------------------------------------------------------\u001b[0m",
      "\u001b[1;31mRuntimeError\u001b[0m                              Traceback (most recent call last)",
      "Cell \u001b[1;32mIn[4], line 32\u001b[0m\n\u001b[0;32m     22\u001b[0m config \u001b[38;5;241m=\u001b[39m ModelConfig(\n\u001b[0;32m     23\u001b[0m     training_window \u001b[38;5;241m=\u001b[39m \u001b[38;5;241m5\u001b[39m,\n\u001b[0;32m     24\u001b[0m     walk_forward_window \u001b[38;5;241m=\u001b[39m \u001b[38;5;241m3\u001b[39m,\n\u001b[0;32m     25\u001b[0m     model_type \u001b[38;5;241m=\u001b[39m ModelType\u001b[38;5;241m.\u001b[39mTORCH,\n\u001b[0;32m     26\u001b[0m     exchange \u001b[38;5;241m=\u001b[39m exchange,\n\u001b[0;32m     27\u001b[0m )\n\u001b[0;32m     28\u001b[0m torch_config \u001b[38;5;241m=\u001b[39m TorchModelConfig(\n\u001b[0;32m     29\u001b[0m     config,\n\u001b[0;32m     30\u001b[0m     torch_script_file \u001b[38;5;241m=\u001b[39m torch_script_file\n\u001b[0;32m     31\u001b[0m )\n\u001b[1;32m---> 32\u001b[0m torch_model \u001b[38;5;241m=\u001b[39m \u001b[43mTorchModel\u001b[49m\u001b[43m(\u001b[49m\n\u001b[0;32m     33\u001b[0m \u001b[43m    \u001b[49m\u001b[38;5;124;43m\"\u001b[39;49m\u001b[38;5;124;43mtorch_model\u001b[39;49m\u001b[38;5;124;43m\"\u001b[39;49m\u001b[43m,\u001b[49m\n\u001b[0;32m     34\u001b[0m \u001b[43m    \u001b[49m\u001b[43m[\u001b[49m\u001b[43mfeat1\u001b[49m\u001b[43m,\u001b[49m\u001b[43m \u001b[49m\u001b[43mfeat2\u001b[49m\u001b[43m]\u001b[49m\u001b[43m,\u001b[49m\n\u001b[0;32m     35\u001b[0m \u001b[43m    \u001b[49m\u001b[43mtarget\u001b[49m\u001b[43m,\u001b[49m\n\u001b[0;32m     36\u001b[0m \u001b[43m    \u001b[49m\u001b[43mtorch_config\u001b[49m\n\u001b[0;32m     37\u001b[0m \u001b[43m)\u001b[49m\n\u001b[0;32m     38\u001b[0m exchange\u001b[38;5;241m.\u001b[39mregisterModel(torch_model)\n",
      "\u001b[1;31mRuntimeError\u001b[0m: Error loading the torch script file: open file failed because of errno 22 on fopen: Invalid argument, file path: \nException raised from RAIIFile at ..\\caffe2\\serialize\\file_adapter.cc:30 (most recent call first):\n00007FFC05B038F200007FFC05B03890 c10.dll!c10::Error::Error [<unknown file> @ <unknown line number>]\n00007FFC05B02CFA00007FFC05B02CA0 c10.dll!c10::detail::torchCheckFail [<unknown file> @ <unknown line number>]\n00007FFBBB77389F00007FFBBB7737A0 torch_cpu.dll!caffe2::serialize::FileAdapter::FileAdapter [<unknown file> @ <unknown line number>]\n00007FFBBB76CA0800007FFBBB76C970 torch_cpu.dll!caffe2::serialize::PyTorchStreamReader::PyTorchStreamReader [<unknown file> @ <unknown line number>]\n00007FFBBC8547E400007FFBBC854660 torch_cpu.dll!torch::jit::import_ir_module [<unknown file> @ <unknown line number>]\n00007FFBBC854B8F00007FFBBC854AB0 torch_cpu.dll!torch::jit::import_ir_module [<unknown file> @ <unknown line number>]\n00007FFBBC855B3F00007FFBBC855AD0 torch_cpu.dll!torch::jit::load [<unknown file> @ <unknown line number>]\n00007FFBE5D85C3C00007FFBE5D85990 Atlas.dll!Atlas::Model::TorchModel::TorchModel [C:\\Users\\natha\\OneDrive\\Desktop\\C++\\Atlas\\modules\\model\\TorchModel.cpp @ 51]\n00007FFBEC3DD02300007FFBEC3DCEC0 AtlasPy.pyd!pybind11::detail::initimpl::construct_or_initialize<Atlas::Model::TorchModel,std::basic_string<char,std::char_traits<char>,std::allocator<char> >,std::vector<std::shared_ptr<Atlas::AST::StrategyBufferOpNode>,std::allocator<std::shared_ptr<Atlas::AST::StrategyBufferOpNode> > >,std::shared_ptr<Atlas::Model::ModelTarget>,std::shared_ptr<Atlas::Model::TorchModelConfig const >,0> [C:\\dev\\vcpkg\\installed\\x64-windows\\include\\pybind11\\detail\\init.h @ 76]\n00007FFBEC3FDC8F00007FFBEC3FDC40 AtlasPy.pyd!`pybind11::detail::initimpl::constructor<std::basic_string<char,std::char_traits<char>,std::allocator<char> >,std::vector<std::shared_ptr<Atlas::AST::StrategyBufferOpNode>,std::allocator<std::shared_ptr<Atlas::AST::StrategyBufferOpNode> > >,std::shared_ptr<Atlas::Model::ModelTarget>,std::shared_ptr<Atlas::Model::TorchModelConfig const > >::execute<pybind11::class_<Atlas::Model::TorchModel,Atlas::Model::ModelBase,std::shared_ptr<Atlas::Model::TorchModel> >,pybind11::arg,pybind11::arg,pybind11::arg,pybind11::arg,0>'::`2'::<lambda_1>::operator() [C:\\dev\\vcpkg\\installed\\x64-windows\\include\\pybind11\\detail\\init.h @ 206]\n00007FFBEC3DA33100007FFBEC3DA150 AtlasPy.pyd!pybind11::detail::argument_loader<pybind11::detail::value_and_holder &,std::basic_string<char,std::char_traits<char>,std::allocator<char> >,std::vector<std::shared_ptr<Atlas::AST::StrategyBufferOpNode>,std::allocator<std::shared_ptr<Atlas::AST::StrategyBufferOpNode> > >,std::shared_ptr<Atlas::Model::ModelTarget>,std::shared_ptr<Atlas::Model::TorchModelConfig const > >::call_impl<void,`pybind11::detail::initimpl::constructor<std::basic_string<char,std::char_traits<char>,std::allocator<char> >,std::vector<std::shared_ptr<Atlas::AST::StrategyBufferOpNode>,std::allocator<std::shared_ptr<Atlas::AST::StrategyBufferOpNode> > >,std::shared_ptr<Atlas::Model::ModelTarget>,std::shared_ptr<Atlas::Model::TorchModelConfig const > >::execute<pybind11::class_<Atlas::Model::TorchModel,Atlas::Model::ModelBase,std::shared_ptr<Atlas::Model::TorchModel> >,pybind11::arg,pybind11::arg,pybind11::arg,pybind11::arg,0>'::`2'::<lambda_1> &,0,1,2,3,4,pybind11::detail::void_type> [C:\\dev\\vcpkg\\installed\\x64-windows\\include\\pybind11\\cast.h @ 1481]\n00007FFBEC3D84F100007FFBEC3D8480 AtlasPy.pyd!pybind11::detail::argument_loader<pybind11::detail::value_and_holder &,std::basic_string<char,std::char_traits<char>,std::allocator<char> >,std::vector<std::shared_ptr<Atlas::AST::StrategyBufferOpNode>,std::allocator<std::shared_ptr<Atlas::AST::StrategyBufferOpNode> > >,std::shared_ptr<Atlas::Model::ModelTarget>,std::shared_ptr<Atlas::Model::TorchModelConfig const > >::call<void,pybind11::detail::void_type,`pybind11::detail::initimpl::constructor<std::basic_string<char,std::char_traits<char>,std::allocator<char> >,std::vector<std::shared_ptr<Atlas::AST::StrategyBufferOpNode>,std::allocator<std::shared_ptr<Atlas::AST::StrategyBufferOpNode> > >,std::shared_ptr<Atlas::Model::ModelTarget>,std::shared_ptr<Atlas::Model::TorchModelConfig const > >::execute<pybind11::class_<Atlas::Model::TorchModel,Atlas::Model::ModelBase,std::shared_ptr<Atlas::Model::TorchModel> >,pybind11::arg,pybind11::arg,pybind11::arg,pybind11::arg,0>'::`2'::<lambda_1> &> [C:\\dev\\vcpkg\\installed\\x64-windows\\include\\pybind11\\cast.h @ 1456]\n00007FFBEC40427000007FFBEC404080 AtlasPy.pyd!`pybind11::cpp_function::initialize<`pybind11::detail::initimpl::constructor<std::basic_string<char,std::char_traits<char>,std::allocator<char> >,std::vector<std::shared_ptr<Atlas::AST::StrategyBufferOpNode>,std::allocator<std::shared_ptr<Atlas::AST::StrategyBufferOpNode> > >,std::shared_ptr<Atlas::Model::ModelTarget>,std::shared_ptr<Atlas::Model::TorchModelConfig const > >::execute<pybind11::class_<Atlas::Model::TorchModel,Atlas::Model::ModelBase,std::shared_ptr<Atlas::Model::TorchModel> >,pybind11::arg,pybind11::arg,pybind11::arg,pybind11::arg,0>'::`2'::<lambda_1>,void,pybind11::detail::value_and_holder &,std::basic_string<char,std::char_traits<char>,std::allocator<char> >,std::vector<std::shared_ptr<Atlas::AST::StrategyBufferOpNode>,std::allocator<std::shared_ptr<Atlas::AST::StrategyBufferOpNode> > >,std::shared_ptr<Atlas::Model::ModelTarget>,std::shared_ptr<Atlas::Model::TorchModelConfig const >,pybind11::name,pybind11::is_method,pybind11::sibling,pybind11::detail::is_new_style_constructor,pybind11::arg,pybind11::arg,pybind11::arg,pybind11::arg>'::`2'::<lambda_3>::operator() [C:\\dev\\vcpkg\\installed\\x64-windows\\include\\pybind11\\pybind11.h @ 253]\n00007FFBEC3CD7FE00007FFBEC3CD7C0 AtlasPy.pyd!`pybind11::cpp_function::initialize<`pybind11::detail::initimpl::constructor<std::basic_string<char,std::char_traits<char>,std::allocator<char> >,std::vector<std::shared_ptr<Atlas::AST::StrategyBufferOpNode>,std::allocator<std::shared_ptr<Atlas::AST::StrategyBufferOpNode> > >,std::shared_ptr<Atlas::Model::ModelTarget>,std::shared_ptr<Atlas::Model::TorchModelConfig const > >::execute<pybind11::class_<Atlas::Model::TorchModel,Atlas::Model::ModelBase,std::shared_ptr<Atlas::Model::TorchModel> >,pybind11::arg,pybind11::arg,pybind11::arg,pybind11::arg,0>'::`2'::<lambda_1>,void,pybind11::detail::value_and_holder &,std::basic_string<char,std::char_traits<char>,std::allocator<char> >,std::vector<std::shared_ptr<Atlas::AST::StrategyBufferOpNode>,std::allocator<std::shared_ptr<Atlas::AST::StrategyBufferOpNode> > >,std::shared_ptr<Atlas::Model::ModelTarget>,std::shared_ptr<Atlas::Model::TorchModelConfig const >,pybind11::name,pybind11::is_method,pybind11::sibling,pybind11::detail::is_new_style_constructor,pybind11::arg,pybind11::arg,pybind11::arg,pybind11::arg>'::`2'::<lambda_3>::<lambda_invoker_cdecl> [C:\\dev\\vcpkg\\installed\\x64-windows\\include\\pybind11\\pybind11.h @ 263]\n00007FFBEC367FA700007FFBEC366D80 AtlasPy.pyd!pybind11::cpp_function::dispatcher [C:\\dev\\vcpkg\\installed\\x64-windows\\include\\pybind11\\pybind11.h @ 946]\n00007FFC0806A8C400007FFC0806A74C python312.dll!PyObject_VectorcallMethod [<unknown file> @ <unknown line number>]\n00007FFC080CF05B00007FFC080CEFC0 python312.dll!PyObject_MakeTpCall [<unknown file> @ <unknown line number>]\n00007FFC081DFD4D00007FFC081C1908 python312.dll!PyThread_tss_is_created [<unknown file> @ <unknown line number>]\n00007FFC0808827900007FFC08088154 python312.dll!PyObject_Call [<unknown file> @ <unknown line number>]\n00007FFC08064F6300007FFC08064EC8 python312.dll!PyObject_Call [<unknown file> @ <unknown line number>]\n00007FFC0806BA6F00007FFC0806A74C python312.dll!PyObject_VectorcallMethod [<unknown file> @ <unknown line number>]\n00007FFC0806AC1C00007FFC0806A74C python312.dll!PyObject_VectorcallMethod [<unknown file> @ <unknown line number>]\n00007FFBEC3A306300007FFBEC3A2FE0 AtlasPy.pyd!pybind11_meta_call [C:\\dev\\vcpkg\\installed\\x64-windows\\include\\pybind11\\detail\\class.h @ 187]\n00007FFC0804B71A00007FFC0804AB90 python312.dll!PyObject_Vectorcall [<unknown file> @ <unknown line number>]\n00007FFC0804ABC500007FFC0804AB90 python312.dll!PyObject_Vectorcall [<unknown file> @ <unknown line number>]\n00007FFC0804CA9700007FFC0804C330 python312.dll!PyEval_EvalFrameDefault [<unknown file> @ <unknown line number>]\n00007FFC08064A2200007FFC08064800 python312.dll!PyMapping_Check [<unknown file> @ <unknown line number>]\n00007FFC0806408100007FFC08063FD4 python312.dll!PyEval_EvalCode [<unknown file> @ <unknown line number>]\n00007FFC0806312C00007FFC08062DA8 python312.dll!PyDict_GetItemStringWithError [<unknown file> @ <unknown line number>]\n00007FFC08062FD000007FFC08062DA8 python312.dll!PyDict_GetItemStringWithError [<unknown file> @ <unknown line number>]\n00007FFC0804FFD700007FFC0804C330 python312.dll!PyEval_EvalFrameDefault [<unknown file> @ <unknown line number>]\n00007FFC080E301500007FFC080E2E88 python312.dll!PyErr_SetNone [<unknown file> @ <unknown line number>]\n00007FFC080E2ED300007FFC080E2E88 python312.dll!PyErr_SetNone [<unknown file> @ <unknown line number>]\n00007FFC08050E4A00007FFC0804C330 python312.dll!PyEval_EvalFrameDefault [<unknown file> @ <unknown line number>]\n00007FFC0807B38A00007FFC0807B210 python312.dll!PyFunction_Vectorcall [<unknown file> @ <unknown line number>]\n00007FFC0807D03100007FFC0807BE50 python312.dll!PyDict_GetItemWithError [<unknown file> @ <unknown line number>]\n00007FFC080882CF00007FFC08088154 python312.dll!PyObject_Call [<unknown file> @ <unknown line number>]\n00007FFC080881C300007FFC08088154 python312.dll!PyObject_Call [<unknown file> @ <unknown line number>]\n00007FFC08051A9B00007FFC0804C330 python312.dll!PyEval_EvalFrameDefault [<unknown file> @ <unknown line number>]\n00007FFC080E301500007FFC080E2E88 python312.dll!PyErr_SetNone [<unknown file> @ <unknown line number>]\n00007FFC0826095D00007FFC08260934 python312.dll!PyGen_NewWithQualName [<unknown file> @ <unknown line number>]\n00007FFC0825721100007FFC082571DC python312.dll!PyIter_Send [<unknown file> @ <unknown line number>]\n00007FFC6CFB713000007FFC6CFB1860 _asyncio.pyd!PyInit__asyncio [<unknown file> @ <unknown line number>]\n00007FFC6CFB6ABE00007FFC6CFB1860 _asyncio.pyd!PyInit__asyncio [<unknown file> @ <unknown line number>]\n00007FFC6CFB73E600007FFC6CFB1860 _asyncio.pyd!PyInit__asyncio [<unknown file> @ <unknown line number>]\n00007FFC0807EA0700007FFC0807D34C python312.dll!PyDict_SetItem [<unknown file> @ <unknown line number>]\n00007FFC0828424500007FFC082841F4 python312.dll!PyContext_NewHamtForTests [<unknown file> @ <unknown line number>]\n00007FFC0828456300007FFC082841F4 python312.dll!PyContext_NewHamtForTests [<unknown file> @ <unknown line number>]\n00007FFC0802874E00007FFC08026E30 python312.dll!PyUnicode_RichCompare [<unknown file> @ <unknown line number>]\n00007FFC0808827900007FFC08088154 python312.dll!PyObject_Call [<unknown file> @ <unknown line number>]\n00007FFC080881C300007FFC08088154 python312.dll!PyObject_Call [<unknown file> @ <unknown line number>]\n00007FFC08051A9B00007FFC0804C330 python312.dll!PyEval_EvalFrameDefault [<unknown file> @ <unknown line number>]\n00007FFC08064A2200007FFC08064800 python312.dll!PyMapping_Check [<unknown file> @ <unknown line number>]\n00007FFC0806408100007FFC08063FD4 python312.dll!PyEval_EvalCode [<unknown file> @ <unknown line number>]\n00007FFC0806312C00007FFC08062DA8 python312.dll!PyDict_GetItemStringWithError [<unknown file> @ <unknown line number>]\n00007FFC08062FD000007FFC08062DA8 python312.dll!PyDict_GetItemStringWithError [<unknown file> @ <unknown line number>]\n00007FFC0802874E00007FFC08026E30 python312.dll!PyUnicode_RichCompare [<unknown file> @ <unknown line number>]\n00007FFC0804AC7600007FFC0804AB90 python312.dll!PyObject_Vectorcall [<unknown file> @ <unknown line number>]\n00007FFC0804ABC500007FFC0804AB90 python312.dll!PyObject_Vectorcall [<unknown file> @ <unknown line number>]\n00007FFC0804CA9700007FFC0804C330 python312.dll!PyEval_EvalFrameDefault [<unknown file> @ <unknown line number>]\n00007FFC0807B38A00007FFC0807B210 python312.dll!PyFunction_Vectorcall [<unknown file> @ <unknown line number>]\n00007FFC0808827900007FFC08088154 python312.dll!PyObject_Call [<unknown file> @ <unknown line number>]\n00007FFC080881C300007FFC08088154 python312.dll!PyObject_Call [<unknown file> @ <unknown line number>]\n00007FFC080B7FF200007FFC080B7E34 python312.dll!PyArg_Parse [<unknown file> @ <unknown line number>]\n"
     ]
    }
   ],
   "source": [
    "n = 2\n",
    "close = AssetReadNode.make(\"Close\", 0, exchange)\n",
    "open = AssetReadNode.make(\"Open\", 0, exchange)\n",
    "prev_close = AssetReadNode.make(\"Close\", -1, exchange)\n",
    "torch_script_file = r'C:\\Users\\natha\\OneDrive\\Desktop\\C++\\Atlas\\AtlasPy\\src\\scripts\\linear_regression.pt'\n",
    "\n",
    "feat1 = AssetOpNode.make(\n",
    "    close,\n",
    "    prev_close,\n",
    "    AssetOpType.SUBTRACT\n",
    ")\n",
    "feat2 = AssetOpNode.make(\n",
    "    close,\n",
    "    open,\n",
    "    AssetOpType.SUBTRACT\n",
    ")\n",
    "target = ModelTarget(\n",
    "    close,\n",
    "    ModelTargetType.ABSOLUTE,\n",
    "    2\n",
    ")\n",
    "config = ModelConfig(\n",
    "    training_window = 5,\n",
    "    walk_forward_window = 3,\n",
    "    model_type = ModelType.TORCH,\n",
    "    exchange = exchange,\n",
    ")\n",
    "torch_config = TorchModelConfig(\n",
    "    config,\n",
    "    torch_script_file = torch_script_file\n",
    ")\n",
    "torch_model = TorchModel(\n",
    "    \"torch_model\",\n",
    "    [feat1, feat2],\n",
    "    target,\n",
    "    torch_config\n",
    ")\n",
    "exchange.registerModel(torch_model)"
   ]
  },
  {
   "cell_type": "code",
   "execution_count": null,
   "metadata": {},
   "outputs": [],
   "source": [
    "#for i in range(6):\n",
    "#    hydra.step()"
   ]
  },
  {
   "cell_type": "code",
   "execution_count": null,
   "metadata": {},
   "outputs": [],
   "source": []
  }
 ],
 "metadata": {
  "kernelspec": {
   "display_name": "Python 3",
   "language": "python",
   "name": "python3"
  },
  "language_info": {
   "codemirror_mode": {
    "name": "ipython",
    "version": 3
   },
   "file_extension": ".py",
   "mimetype": "text/x-python",
   "name": "python",
   "nbconvert_exporter": "python",
   "pygments_lexer": "ipython3",
   "version": "3.12.0"
  }
 },
 "nbformat": 4,
 "nbformat_minor": 2
}
