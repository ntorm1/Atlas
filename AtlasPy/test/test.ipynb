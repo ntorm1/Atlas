{
 "cells": [
  {
   "cell_type": "code",
   "execution_count": 1,
   "metadata": {},
   "outputs": [],
   "source": [
    "import sys\n",
    "import os\n",
    "import time\n",
    "\n",
    "atlas_py_path = \"C:/Users/natha/OneDrive/Desktop/C++/Atlas/x64/Release\"\n",
    "sys.path.append(atlas_py_path)\n",
    "\n",
    "import AtlasPy\n",
    "from AtlasPy.core import Hydra, Portfolio, Strategy\n",
    "from AtlasPy.ast import *"
   ]
  },
  {
   "cell_type": "code",
   "execution_count": 2,
   "metadata": {},
   "outputs": [],
   "source": [
    "exchange_id = \"test\"\n",
    "portfolio_id = \"test_p\"\n",
    "strategy_id = \"test_s\"\n",
    "exchange_path_sp500 = \"C:/Users/natha/OneDrive/Desktop/C++/Atlas/AtlasTest/scripts/data_sp500.h5\"\n",
    "exchange_path_fast = \"C:/Users/natha/OneDrive/Desktop/C++/Atlas/AtlasPy/test/data_fast.h5\"\n",
    "initial_cash = 100.0\n",
    "\n",
    "ret_sp500 = 2.6207\n",
    "ret_fast = 0.6351860771192923\n",
    "\n",
    "hydra = Hydra()"
   ]
  },
  {
   "cell_type": "code",
   "execution_count": 3,
   "metadata": {},
   "outputs": [],
   "source": [
    "exchange = hydra.addExchange(exchange_id, exchange_path_fast)\n",
    "portfolio = hydra.addPortfolio(portfolio_id, exchange, initial_cash)\n",
    "hydra.build()"
   ]
  },
  {
   "cell_type": "code",
   "execution_count": 4,
   "metadata": {},
   "outputs": [],
   "source": [
    "\n",
    "read_fast = AssetReadNode.make(\"ma_fast\", 0, exchange)\n",
    "read_slow = AssetReadNode.make(\"ma_slow\", 0, exchange)\n",
    "spread = AssetDifferenceNode(read_fast, read_slow)\n",
    "op_variant = AssetOpNodeVariant(spread)\n",
    "\n",
    "exchange_view = ExchangeViewNode(exchange, op_variant)\n",
    "exchange_view.setFilter(ExchangeViewFilterType.GREATER_THAN, 0.0)\n",
    "allocation = AllocationNode(exchange_view)\n",
    "strategy_node = StrategyNode(allocation, portfolio)\n",
    "strategy = hydra.addStrategy(Strategy(strategy_id, strategy_node, 1.0))"
   ]
  },
  {
   "cell_type": "code",
   "execution_count": 12,
   "metadata": {},
   "outputs": [
    {
     "name": "stdout",
     "output_type": "stream",
     "text": [
      "Time: 96.4 us\n",
      "Total return: 63.519%\n",
      "Epsilon: 1.7763568394002505e-15\n"
     ]
    }
   ],
   "source": [
    "st = time.perf_counter_ns()\n",
    "hydra.run()\n",
    "et = time.perf_counter_ns()\n",
    "\n",
    "print(f\"Time: {(et - st) / 1000} us\")\n",
    "\n",
    "tr = (strategy.getNLV() - initial_cash) / initial_cash\n",
    "print(f\"Total return: {tr:.3%}\")\n",
    "print(f\"Epsilon: {tr - ret_fast}\")"
   ]
  },
  {
   "cell_type": "code",
   "execution_count": 6,
   "metadata": {},
   "outputs": [],
   "source": [
    "hydra.reset()"
   ]
  },
  {
   "cell_type": "code",
   "execution_count": null,
   "metadata": {},
   "outputs": [],
   "source": []
  }
 ],
 "metadata": {
  "kernelspec": {
   "display_name": "Python 3",
   "language": "python",
   "name": "python3"
  },
  "language_info": {
   "codemirror_mode": {
    "name": "ipython",
    "version": 3
   },
   "file_extension": ".py",
   "mimetype": "text/x-python",
   "name": "python",
   "nbconvert_exporter": "python",
   "pygments_lexer": "ipython3",
   "version": "3.12.0"
  }
 },
 "nbformat": 4,
 "nbformat_minor": 2
}
