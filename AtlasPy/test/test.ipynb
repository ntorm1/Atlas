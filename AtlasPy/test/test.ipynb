{
 "cells": [
  {
   "cell_type": "code",
   "execution_count": 1,
   "metadata": {},
   "outputs": [],
   "source": [
    "import sys\n",
    "import time\n",
    "\n",
    "atlas_py_path = \"C:/Users/natha/OneDrive/Desktop/C++/Atlas/x64/Release\"\n",
    "sys.path.append(atlas_py_path)\n",
    "\n",
    "import AtlasPy\n",
    "from AtlasPy.core import Hydra, Portfolio, Strategy\n",
    "from AtlasPy.ast import *"
   ]
  },
  {
   "cell_type": "code",
   "execution_count": 7,
   "metadata": {},
   "outputs": [],
   "source": [
    "exchange_id = \"test\"\n",
    "portfolio_id = \"test_p\"\n",
    "strategy_id = \"test_s\"\n",
    "exchange_path_sp500 = \"C:/Users/natha/OneDrive/Desktop/C++/Atlas/AtlasTest/scripts/data_sp500.h5\"\n",
    "initial_cash = 100.0\n",
    "\n",
    "hydra = Hydra()"
   ]
  },
  {
   "cell_type": "code",
   "execution_count": null,
   "metadata": {},
   "outputs": [],
   "source": [
    "exchange = hydra.addExchange(exchange_id, exchange_path_sp500)\n",
    "portfolio = hydra.addPortfolio(portfolio_id, exchange, initial_cash)\n",
    "hydra.build()\n"
   ]
  },
  {
   "cell_type": "code",
   "execution_count": 10,
   "metadata": {},
   "outputs": [
    {
     "name": "stdout",
     "output_type": "stream",
     "text": [
      "Time: 0.0010216236114501953 s\n",
      "Time: 1021.6236114501953 us\n",
      "Epsilon: 0.0003877146672262022\n"
     ]
    }
   ],
   "source": [
    "st = time.time()\n",
    "\n",
    "read_close = AssetReadNode.make(\"close\", 0, exchange)\n",
    "read_50_ma = AssetReadNode.make(\"50_ma\", 0, exchange)\n",
    "spread = AssetDifferenceNode(read_close, read_50_ma)\n",
    "op_variant = AssetOpNodeVariant(spread)\n",
    "\n",
    "exchange_view = ExchangeViewNode(exchange, op_variant)\n",
    "exchange_view.setFilter(ExchangeViewFilterType.GREATER_THAN, 0.0)\n",
    "allocation = AllocationNode(exchange_view)\n",
    "strategy_node = StrategyNode(allocation, portfolio)\n",
    "strategy = hydra.addStrategy(Strategy(strategy_id, strategy_node, 1.0))\n",
    "\n",
    "hydra.run()\n",
    "et = time.time()\n",
    "\n",
    "print(f\"Time: {(et - st)} s\")\n",
    "print(f\"Time: {(et - st) * 1000000.0} us\")\n",
    "\n",
    "ret = (strategy.getNLV() - initial_cash) / initial_cash\n",
    "print(f\"Epsilon: {ret - 2.6207}\")"
   ]
  },
  {
   "cell_type": "code",
   "execution_count": 5,
   "metadata": {},
   "outputs": [
    {
     "data": {
      "text/plain": [
       "0.0003877146672262022"
      ]
     },
     "execution_count": 5,
     "metadata": {},
     "output_type": "execute_result"
    }
   ],
   "source": []
  },
  {
   "cell_type": "code",
   "execution_count": null,
   "metadata": {},
   "outputs": [],
   "source": []
  }
 ],
 "metadata": {
  "kernelspec": {
   "display_name": "Python 3",
   "language": "python",
   "name": "python3"
  },
  "language_info": {
   "codemirror_mode": {
    "name": "ipython",
    "version": 3
   },
   "file_extension": ".py",
   "mimetype": "text/x-python",
   "name": "python",
   "nbconvert_exporter": "python",
   "pygments_lexer": "ipython3",
   "version": "3.12.0"
  }
 },
 "nbformat": 4,
 "nbformat_minor": 2
}
