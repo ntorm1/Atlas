{
 "cells": [
  {
   "cell_type": "code",
   "execution_count": 1,
   "id": "009037d1-7d06-4e6e-981d-ae7af76d200b",
   "metadata": {},
   "outputs": [],
   "source": [
    "from datetime import datetime\n",
    "import time\n",
    "import os\n",
    "import sys"
   ]
  },
  {
   "cell_type": "code",
   "execution_count": 2,
   "id": "de436ebb-330c-4011-9a83-b126a252a9d9",
   "metadata": {},
   "outputs": [],
   "source": [
    "atlas_path = \"C:/Users/natha/OneDrive/Desktop/C++/Atlas/x64/Release\"\n",
    "sys.path.append(atlas_path)\n",
    "from AtlasPy.core import Hydra, Portfolio, Strategy\n",
    "from AtlasPy.ast import *"
   ]
  },
  {
   "cell_type": "code",
   "execution_count": 3,
   "id": "cd474f1b",
   "metadata": {},
   "outputs": [],
   "source": [
    "exchange_id = \"test\"\n",
    "portfolio_id = \"test_p\"\n",
    "strategy_id = \"test_s\"\n",
    "exchange_path_fast = \"C:/Users/natha/OneDrive/Desktop/C++/Atlas/AtlasPy/test/data_fast.h5\"\n",
    "initial_cash = 100.0\n",
    "\n",
    "ret_fast = 0.6351860771192923\n",
    "\n",
    "hydra = Hydra()"
   ]
  },
  {
   "cell_type": "code",
   "execution_count": 4,
   "id": "356f3ebb",
   "metadata": {},
   "outputs": [],
   "source": [
    "exchange = hydra.addExchange(exchange_id, exchange_path_fast)\n",
    "portfolio = hydra.addPortfolio(portfolio_id, exchange, initial_cash)\n",
    "hydra.build()"
   ]
  },
  {
   "cell_type": "code",
   "execution_count": 5,
   "id": "3f7159b3",
   "metadata": {},
   "outputs": [],
   "source": [
    "read_fast = AssetReadNodeWrapper.make(\"ma_fast\", 0, exchange)\n",
    "read_slow = AssetReadNodeWrapper.make(\"ma_slow\", 0, exchange)\n",
    "spread = AssetDifferenceNodeWrapper.make(read_fast, read_slow)\n",
    "op_variant = AssetOpNodeVariant.make(spread)\n",
    "\n",
    "filter = ExchangeViewFilter(ExchangeViewFilterType.GREATER_THAN, 0.0)\n",
    "exchange_view = ExchangeViewNodeWrapper.make(exchange, op_variant, filter)\n",
    "allocation = AllocationNodeWrapper.make(exchange_view)\n",
    "strategy_node = StrategyNodeWrapper.make(allocation, portfolio)\n",
    "strategy = hydra.addStrategy(Strategy(strategy_id, strategy_node, 1.0))"
   ]
  },
  {
   "cell_type": "code",
   "execution_count": 6,
   "id": "993d78a2",
   "metadata": {},
   "outputs": [
    {
     "name": "stdout",
     "output_type": "stream",
     "text": [
      "Time elapsed Avg: 21.780 us\n",
      "Total return: 63.519%\n",
      "Epsilon: 1.7763568394002505e-15\n"
     ]
    }
   ],
   "source": [
    "time_sum = 0\n",
    "n = 10\n",
    "for i in range(n):\n",
    "    st = time.perf_counter_ns()\n",
    "    hydra.run()\n",
    "    et = time.perf_counter_ns()\n",
    "    time_sum += et - st\n",
    "\n",
    "avg_time_micros = (time_sum / n) / 1000\n",
    "\n",
    "tr = (strategy.getNLV() - initial_cash) / initial_cash\n",
    "print(f\"Time elapsed Avg: {avg_time_micros:.3f} us\")\n",
    "print(f\"Total return: {tr:.3%}\")\n",
    "print(f\"Epsilon: {tr - ret_fast}\")"
   ]
  },
  {
   "cell_type": "code",
   "execution_count": 7,
   "id": "7e770e80",
   "metadata": {},
   "outputs": [
    {
     "name": "stdout",
     "output_type": "stream",
     "text": [
      "Speedup: 827.778x\n"
     ]
    }
   ],
   "source": [
    "vbt_time_milis = 18.029\n",
    "vbt_time_micros = vbt_time_milis * 1000\n",
    "speedup = vbt_time_micros / avg_time_micros\n",
    "print(f\"Speedup: {speedup:.3f}x\")"
   ]
  },
  {
   "cell_type": "code",
   "execution_count": 8,
   "id": "abec33f9",
   "metadata": {},
   "outputs": [
    {
     "data": {
      "text/plain": [
       "18500"
      ]
     },
     "execution_count": 8,
     "metadata": {},
     "output_type": "execute_result"
    }
   ],
   "source": [
    "(et - st)"
   ]
  },
  {
   "cell_type": "code",
   "execution_count": null,
   "id": "fff671bc",
   "metadata": {},
   "outputs": [],
   "source": []
  }
 ],
 "metadata": {
  "kernelspec": {
   "display_name": "Python 3 (ipykernel)",
   "language": "python",
   "name": "python3"
  },
  "language_info": {
   "codemirror_mode": {
    "name": "ipython",
    "version": 3
   },
   "file_extension": ".py",
   "mimetype": "text/x-python",
   "name": "python",
   "nbconvert_exporter": "python",
   "pygments_lexer": "ipython3",
   "version": "3.12.0"
  }
 },
 "nbformat": 4,
 "nbformat_minor": 5
}
