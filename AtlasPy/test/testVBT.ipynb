{
 "cells": [
  {
   "cell_type": "code",
   "execution_count": 1,
   "metadata": {},
   "outputs": [],
   "source": [
    "from datetime import datetime\n",
    "import time\n",
    "import os\n",
    "\n",
    "import numpy as np\n",
    "import pandas as pd\n",
    "\n",
    "import vectorbt as vbt"
   ]
  },
  {
   "cell_type": "code",
   "execution_count": 4,
   "metadata": {},
   "outputs": [
    {
     "data": {
      "text/plain": [
       "<vectorbt.data.custom.YFData at 0x22b522817f0>"
      ]
     },
     "execution_count": 4,
     "metadata": {},
     "output_type": "execute_result"
    }
   ],
   "source": [
    "start = '2019-01-01 UTC'  # crypto is in UTC\n",
    "end = '2020-01-01 UTC'\n",
    "data = vbt.YFData.download(\n",
    "    'BTC-USD',\n",
    "    start=start,end=end\n",
    ")\n",
    "\n"
   ]
  },
  {
   "cell_type": "code",
   "execution_count": 5,
   "metadata": {},
   "outputs": [
    {
     "data": {
      "text/plain": [
       "{'AAPL':                                  Open        High         Low       Close  \\\n",
       " Date                                                                        \n",
       " 2011-01-03 05:00:00+00:00    9.845952    9.985641    9.821763    9.964778   \n",
       " 2011-01-04 05:00:00+00:00   10.051552   10.053367    9.921841   10.016782   \n",
       " 2011-01-05 05:00:00+00:00    9.964170   10.108999    9.962658   10.098719   \n",
       " 2011-01-06 05:00:00+00:00   10.120493   10.136518   10.065464   10.090560   \n",
       " 2011-01-07 05:00:00+00:00   10.098419   10.169775   10.035226   10.162821   \n",
       " ...                               ...         ...         ...         ...   \n",
       " 2023-12-22 05:00:00+00:00  194.931260  195.160978  192.724085  193.353287   \n",
       " 2023-12-26 05:00:00+00:00  193.363270  193.642911  192.584265  192.803986   \n",
       " 2023-12-27 05:00:00+00:00  192.244692  193.253399  190.846467  192.903839   \n",
       " 2023-12-28 05:00:00+00:00  193.892582  194.411923  192.923817  193.333298   \n",
       " 2023-12-29 05:00:00+00:00  193.652887  194.152249  191.485654  192.284637   \n",
       " \n",
       "                               Volume  Dividends  Stock Splits  \n",
       " Date                                                           \n",
       " 2011-01-03 05:00:00+00:00  445138400        0.0           0.0  \n",
       " 2011-01-04 05:00:00+00:00  309080800        0.0           0.0  \n",
       " 2011-01-05 05:00:00+00:00  255519600        0.0           0.0  \n",
       " 2011-01-06 05:00:00+00:00  300428800        0.0           0.0  \n",
       " 2011-01-07 05:00:00+00:00  311931200        0.0           0.0  \n",
       " ...                              ...        ...           ...  \n",
       " 2023-12-22 05:00:00+00:00   37122800        0.0           0.0  \n",
       " 2023-12-26 05:00:00+00:00   28919300        0.0           0.0  \n",
       " 2023-12-27 05:00:00+00:00   48087700        0.0           0.0  \n",
       " 2023-12-28 05:00:00+00:00   34049900        0.0           0.0  \n",
       " 2023-12-29 05:00:00+00:00   42628800        0.0           0.0  \n",
       " \n",
       " [3270 rows x 7 columns],\n",
       " 'MSFT':                                  Open        High         Low       Close  \\\n",
       " Date                                                                        \n",
       " 2011-01-03 05:00:00+00:00   21.678348   21.778818   21.577878   21.624249   \n",
       " 2011-01-04 05:00:00+00:00   21.593332   21.771087   21.523776   21.709259   \n",
       " 2011-01-05 05:00:00+00:00   21.562423   21.647436   21.461953   21.639708   \n",
       " 2011-01-06 05:00:00+00:00   21.670627   22.296633   21.531515   22.273447   \n",
       " 2011-01-07 05:00:00+00:00   22.134333   22.211618   21.832924   22.103420   \n",
       " ...                               ...         ...         ...         ...   \n",
       " 2023-12-22 05:00:00+00:00  372.990248  374.487479  372.022037  373.888580   \n",
       " 2023-12-26 05:00:00+00:00  374.307814  376.244235  372.810582  373.968445   \n",
       " 2023-12-27 05:00:00+00:00  373.000244  374.367710  372.121863  373.379547   \n",
       " 2023-12-28 05:00:00+00:00  374.677110  375.765095  373.469353  374.587280   \n",
       " 2023-12-29 05:00:00+00:00  375.305952  376.463814  372.790614  375.345886   \n",
       " \n",
       "                              Volume  Dividends  Stock Splits  \n",
       " Date                                                          \n",
       " 2011-01-03 05:00:00+00:00  53443800        0.0           0.0  \n",
       " 2011-01-04 05:00:00+00:00  54405600        0.0           0.0  \n",
       " 2011-01-05 05:00:00+00:00  58998700        0.0           0.0  \n",
       " 2011-01-06 05:00:00+00:00  88026300        0.0           0.0  \n",
       " 2011-01-07 05:00:00+00:00  73762000        0.0           0.0  \n",
       " ...                             ...        ...           ...  \n",
       " 2023-12-22 05:00:00+00:00  17091100        0.0           0.0  \n",
       " 2023-12-26 05:00:00+00:00  12673100        0.0           0.0  \n",
       " 2023-12-27 05:00:00+00:00  14905400        0.0           0.0  \n",
       " 2023-12-28 05:00:00+00:00  14327000        0.0           0.0  \n",
       " 2023-12-29 05:00:00+00:00  18723000        0.0           0.0  \n",
       " \n",
       " [3270 rows x 7 columns]}"
      ]
     },
     "execution_count": 5,
     "metadata": {},
     "output_type": "execute_result"
    }
   ],
   "source": [
    "data.data"
   ]
  },
  {
   "cell_type": "code",
   "execution_count": 14,
   "metadata": {},
   "outputs": [
    {
     "name": "stdout",
     "output_type": "stream",
     "text": [
      "Total return: 63.519%\n",
      "Time elapsed Avg: 18.029 ms\n"
     ]
    }
   ],
   "source": [
    "fast_ma = vbt.MA.run(btc_price, 10, short_name='fast')\n",
    "slow_ma = vbt.MA.run(btc_price, 20, short_name='slow')\n",
    "\n",
    "\n",
    "time_sum = 0\n",
    "n = 100\n",
    "for i in range(n):\n",
    "    st = time.perf_counter_ns()\n",
    "    entries = fast_ma.ma_crossed_above(slow_ma)\n",
    "    exits = fast_ma.ma_crossed_below(slow_ma)\n",
    "    pf = vbt.Portfolio.from_signals(btc_price, entries, exits)\n",
    "    et = time.perf_counter_ns()\n",
    "    time_sum += et - st\n",
    "\n",
    "avg_time_millis = time_sum / n / 1e6\n",
    "tr = pf.total_return()\n",
    "\n",
    "print(f\"Total return: {tr:.3%}\")\n",
    "print(f\"Time elapsed Avg: {avg_time_millis:.3f} ms\")"
   ]
  },
  {
   "cell_type": "code",
   "execution_count": 30,
   "metadata": {},
   "outputs": [
    {
     "data": {
      "text/html": [
       "<div>\n",
       "<style scoped>\n",
       "    .dataframe tbody tr th:only-of-type {\n",
       "        vertical-align: middle;\n",
       "    }\n",
       "\n",
       "    .dataframe tbody tr th {\n",
       "        vertical-align: top;\n",
       "    }\n",
       "\n",
       "    .dataframe thead th {\n",
       "        text-align: right;\n",
       "    }\n",
       "</style>\n",
       "<table border=\"1\" class=\"dataframe\">\n",
       "  <thead>\n",
       "    <tr style=\"text-align: right;\">\n",
       "      <th></th>\n",
       "      <th>Close</th>\n",
       "      <th>ma_fast</th>\n",
       "      <th>ma_slow</th>\n",
       "    </tr>\n",
       "    <tr>\n",
       "      <th>Date</th>\n",
       "      <th></th>\n",
       "      <th></th>\n",
       "      <th></th>\n",
       "    </tr>\n",
       "  </thead>\n",
       "  <tbody>\n",
       "    <tr>\n",
       "      <th>1547942400000000000</th>\n",
       "      <td>3601.013672</td>\n",
       "      <td>3655.933936</td>\n",
       "      <td>3786.643591</td>\n",
       "    </tr>\n",
       "    <tr>\n",
       "      <th>1548028800000000000</th>\n",
       "      <td>3576.032471</td>\n",
       "      <td>3644.800635</td>\n",
       "      <td>3773.269214</td>\n",
       "    </tr>\n",
       "    <tr>\n",
       "      <th>1548115200000000000</th>\n",
       "      <td>3604.577148</td>\n",
       "      <td>3639.128247</td>\n",
       "      <td>3756.327600</td>\n",
       "    </tr>\n",
       "    <tr>\n",
       "      <th>1548201600000000000</th>\n",
       "      <td>3585.123047</td>\n",
       "      <td>3642.345239</td>\n",
       "      <td>3743.746692</td>\n",
       "    </tr>\n",
       "    <tr>\n",
       "      <th>1548288000000000000</th>\n",
       "      <td>3600.865479</td>\n",
       "      <td>3631.826562</td>\n",
       "      <td>3730.904089</td>\n",
       "    </tr>\n",
       "    <tr>\n",
       "      <th>...</th>\n",
       "      <td>...</td>\n",
       "      <td>...</td>\n",
       "      <td>...</td>\n",
       "    </tr>\n",
       "    <tr>\n",
       "      <th>1577404800000000000</th>\n",
       "      <td>7290.088379</td>\n",
       "      <td>7288.358252</td>\n",
       "      <td>7235.358203</td>\n",
       "    </tr>\n",
       "    <tr>\n",
       "      <th>1577491200000000000</th>\n",
       "      <td>7317.990234</td>\n",
       "      <td>7292.477002</td>\n",
       "      <td>7223.040454</td>\n",
       "    </tr>\n",
       "    <tr>\n",
       "      <th>1577577600000000000</th>\n",
       "      <td>7422.652832</td>\n",
       "      <td>7314.457861</td>\n",
       "      <td>7224.128125</td>\n",
       "    </tr>\n",
       "    <tr>\n",
       "      <th>1577664000000000000</th>\n",
       "      <td>7292.995117</td>\n",
       "      <td>7321.875732</td>\n",
       "      <td>7224.871899</td>\n",
       "    </tr>\n",
       "    <tr>\n",
       "      <th>1577750400000000000</th>\n",
       "      <td>7193.599121</td>\n",
       "      <td>7322.119775</td>\n",
       "      <td>7223.680493</td>\n",
       "    </tr>\n",
       "  </tbody>\n",
       "</table>\n",
       "<p>346 rows × 3 columns</p>\n",
       "</div>"
      ],
      "text/plain": [
       "                           Close      ma_fast      ma_slow\n",
       "Date                                                      \n",
       "1547942400000000000  3601.013672  3655.933936  3786.643591\n",
       "1548028800000000000  3576.032471  3644.800635  3773.269214\n",
       "1548115200000000000  3604.577148  3639.128247  3756.327600\n",
       "1548201600000000000  3585.123047  3642.345239  3743.746692\n",
       "1548288000000000000  3600.865479  3631.826562  3730.904089\n",
       "...                          ...          ...          ...\n",
       "1577404800000000000  7290.088379  7288.358252  7235.358203\n",
       "1577491200000000000  7317.990234  7292.477002  7223.040454\n",
       "1577577600000000000  7422.652832  7314.457861  7224.128125\n",
       "1577664000000000000  7292.995117  7321.875732  7224.871899\n",
       "1577750400000000000  7193.599121  7322.119775  7223.680493\n",
       "\n",
       "[346 rows x 3 columns]"
      ]
     },
     "execution_count": 30,
     "metadata": {},
     "output_type": "execute_result"
    }
   ],
   "source": [
    "df = pd.DataFrame(btc_price)\n",
    "df[\"ma_fast\"] = df[\"Close\"].rolling(10).mean()\n",
    "df[\"ma_slow\"] = df[\"Close\"].rolling(20).mean()\n",
    "df.index = df.index.astype('int64')\n",
    "df.dropna(inplace=True)\n",
    "df"
   ]
  },
  {
   "cell_type": "code",
   "execution_count": 31,
   "metadata": {},
   "outputs": [],
   "source": [
    "output_path = os.path.join(os.getcwd(), 'data_fast.h5')\n",
    "if os.path.exists(output_path):\n",
    "    os.remove(output_path)\n",
    "\n",
    "ticker = \"BTCUSD\"\n",
    "with h5py.File(output_path, \"a\") as file:\n",
    "        stock_data = df.to_numpy()\n",
    "        index = df.index.map(lambda timestamp: int(timestamp)).to_numpy()\n",
    "        dataset = file.create_dataset(f\"{ticker}/data\", data=stock_data)\n",
    "        file.create_dataset(\n",
    "                f\"{ticker}/datetime\",\n",
    "                data = index,\n",
    "        )\n",
    "        for column in df.columns:\n",
    "            dataset.attrs[column] = column"
   ]
  },
  {
   "cell_type": "code",
   "execution_count": 8,
   "metadata": {},
   "outputs": [
    {
     "data": {
      "text/plain": [
       "54.108643531799316"
      ]
     },
     "execution_count": 8,
     "metadata": {},
     "output_type": "execute_result"
    }
   ],
   "source": [
    "(time_sum / n) * 1e4"
   ]
  },
  {
   "cell_type": "code",
   "execution_count": null,
   "metadata": {},
   "outputs": [],
   "source": []
  }
 ],
 "metadata": {
  "kernelspec": {
   "display_name": ".venv",
   "language": "python",
   "name": "python3"
  },
  "language_info": {
   "codemirror_mode": {
    "name": "ipython",
    "version": 3
   },
   "file_extension": ".py",
   "mimetype": "text/x-python",
   "name": "python",
   "nbconvert_exporter": "python",
   "pygments_lexer": "ipython3",
   "version": "3.8.10"
  }
 },
 "nbformat": 4,
 "nbformat_minor": 2
}
